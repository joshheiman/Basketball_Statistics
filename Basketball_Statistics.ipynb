{
 "cells": [
  {
   "cell_type": "markdown",
   "metadata": {},
   "source": [
    "# Basketball Statistical Analysis: NCAA vs NBA\n",
    "This project seeks to allow users to find and explore trends not commonly seen by comparing the statistics of NBA players to their NCAA statistics. The goal of this project is to generate interactive bar charts that allow the user to explore trends within the data that are not easily observable. In this project, I used the package pandas to help clean, filter, and select the data for each of the charts. I used the matplotlib package to create bar charts and set a similar theme in all of the plots. I used ipywidgets interact functionality to generaete these interactive plots. Finally, using nbineract, I was able to generate an interactive HTML document, creating a usable interface with Jupyter notebook."
   ]
  },
  {
   "cell_type": "markdown",
   "metadata": {},
   "source": [
    "## Reading and Cleaning the Data\n",
    " I found a dataset on data.world.com that shows over 4,500 NBA players’ NBA and NCAA\n",
    "statistics. The variables included in this project include the players name, years active, birth date, college, name, position, and NBA and NCAA statistics. We used the pandas package for the reading in and cleaning of the data. The first 5 rows of the data frame show the user what to expect when interacting with the data. Critical in this section is renaming columns so that the NBA and NCAA statistics have the same variable names for each player. "
   ]
  },
  {
   "cell_type": "code",
   "execution_count": 1,
   "metadata": {},
   "outputs": [
    {
     "data": {
      "text/html": [
       "<div>\n",
       "<style scoped>\n",
       "    .dataframe tbody tr th:only-of-type {\n",
       "        vertical-align: middle;\n",
       "    }\n",
       "\n",
       "    .dataframe tbody tr th {\n",
       "        vertical-align: top;\n",
       "    }\n",
       "\n",
       "    .dataframe thead th {\n",
       "        text-align: right;\n",
       "    }\n",
       "</style>\n",
       "<table border=\"1\" class=\"dataframe\">\n",
       "  <thead>\n",
       "    <tr style=\"text-align: right;\">\n",
       "      <th></th>\n",
       "      <th>active_from</th>\n",
       "      <th>active_to</th>\n",
       "      <th>birth_date</th>\n",
       "      <th>college</th>\n",
       "      <th>name</th>\n",
       "      <th>position</th>\n",
       "      <th>position.1</th>\n",
       "      <th>NBA__3ptapg</th>\n",
       "      <th>NBA__3ptpct</th>\n",
       "      <th>NBA__3ptpg</th>\n",
       "      <th>...</th>\n",
       "      <th>NCAA_fgapg</th>\n",
       "      <th>NCAA_fg%</th>\n",
       "      <th>NCAA_fg_per_game</th>\n",
       "      <th>NCAA_ft</th>\n",
       "      <th>NCAA_ftapg</th>\n",
       "      <th>NCAA_ftpg</th>\n",
       "      <th>NCAA_g_played</th>\n",
       "      <th>NCAA_ppg</th>\n",
       "      <th>NCAA_ppg.1</th>\n",
       "      <th>years_active</th>\n",
       "    </tr>\n",
       "  </thead>\n",
       "  <tbody>\n",
       "    <tr>\n",
       "      <td>0</td>\n",
       "      <td>1991</td>\n",
       "      <td>1995</td>\n",
       "      <td>24-Jun-68</td>\n",
       "      <td>Duke University</td>\n",
       "      <td>Alaa Abdelnaby</td>\n",
       "      <td>F-C</td>\n",
       "      <td>F-C</td>\n",
       "      <td>0.0</td>\n",
       "      <td>0.000</td>\n",
       "      <td>0.0</td>\n",
       "      <td>...</td>\n",
       "      <td>5.6</td>\n",
       "      <td>0.599</td>\n",
       "      <td>3.3</td>\n",
       "      <td>0.728</td>\n",
       "      <td>2.5</td>\n",
       "      <td>1.8</td>\n",
       "      <td>134.0</td>\n",
       "      <td>8.5</td>\n",
       "      <td>8.5</td>\n",
       "      <td>4</td>\n",
       "    </tr>\n",
       "    <tr>\n",
       "      <td>1</td>\n",
       "      <td>1969</td>\n",
       "      <td>1978</td>\n",
       "      <td>7-Apr-46</td>\n",
       "      <td>Iowa State University</td>\n",
       "      <td>Zaid Abdul-Aziz</td>\n",
       "      <td>C-F</td>\n",
       "      <td>C-F</td>\n",
       "      <td>NaN</td>\n",
       "      <td>NaN</td>\n",
       "      <td>NaN</td>\n",
       "      <td>...</td>\n",
       "      <td>NaN</td>\n",
       "      <td>NaN</td>\n",
       "      <td>NaN</td>\n",
       "      <td>NaN</td>\n",
       "      <td>NaN</td>\n",
       "      <td>NaN</td>\n",
       "      <td>NaN</td>\n",
       "      <td>NaN</td>\n",
       "      <td>NaN</td>\n",
       "      <td>9</td>\n",
       "    </tr>\n",
       "    <tr>\n",
       "      <td>2</td>\n",
       "      <td>1970</td>\n",
       "      <td>1989</td>\n",
       "      <td>16-Apr-47</td>\n",
       "      <td>University of California, Los Angeles</td>\n",
       "      <td>Kareem Abdul-Jabbar</td>\n",
       "      <td>C</td>\n",
       "      <td>C</td>\n",
       "      <td>0.0</td>\n",
       "      <td>0.056</td>\n",
       "      <td>0.0</td>\n",
       "      <td>...</td>\n",
       "      <td>16.8</td>\n",
       "      <td>0.639</td>\n",
       "      <td>10.7</td>\n",
       "      <td>0.628</td>\n",
       "      <td>7.9</td>\n",
       "      <td>5.0</td>\n",
       "      <td>88.0</td>\n",
       "      <td>26.4</td>\n",
       "      <td>26.4</td>\n",
       "      <td>19</td>\n",
       "    </tr>\n",
       "    <tr>\n",
       "      <td>3</td>\n",
       "      <td>1991</td>\n",
       "      <td>2001</td>\n",
       "      <td>9-Mar-69</td>\n",
       "      <td>Louisiana State University</td>\n",
       "      <td>Mahmoud Abdul-Rauf</td>\n",
       "      <td>G</td>\n",
       "      <td>G</td>\n",
       "      <td>2.3</td>\n",
       "      <td>0.354</td>\n",
       "      <td>0.8</td>\n",
       "      <td>...</td>\n",
       "      <td>21.9</td>\n",
       "      <td>0.474</td>\n",
       "      <td>10.4</td>\n",
       "      <td>0.863</td>\n",
       "      <td>6.4</td>\n",
       "      <td>5.5</td>\n",
       "      <td>64.0</td>\n",
       "      <td>29.0</td>\n",
       "      <td>29.0</td>\n",
       "      <td>10</td>\n",
       "    </tr>\n",
       "    <tr>\n",
       "      <td>4</td>\n",
       "      <td>1998</td>\n",
       "      <td>2003</td>\n",
       "      <td>3-Nov-74</td>\n",
       "      <td>University of Michigan, San Jose State University</td>\n",
       "      <td>Tariq Abdul-Wahad</td>\n",
       "      <td>F</td>\n",
       "      <td>F</td>\n",
       "      <td>0.3</td>\n",
       "      <td>0.237</td>\n",
       "      <td>0.1</td>\n",
       "      <td>...</td>\n",
       "      <td>NaN</td>\n",
       "      <td>NaN</td>\n",
       "      <td>NaN</td>\n",
       "      <td>NaN</td>\n",
       "      <td>NaN</td>\n",
       "      <td>NaN</td>\n",
       "      <td>NaN</td>\n",
       "      <td>NaN</td>\n",
       "      <td>NaN</td>\n",
       "      <td>5</td>\n",
       "    </tr>\n",
       "  </tbody>\n",
       "</table>\n",
       "<p>5 rows × 33 columns</p>\n",
       "</div>"
      ],
      "text/plain": [
       "   active_from  active_to birth_date  \\\n",
       "0         1991       1995  24-Jun-68   \n",
       "1         1969       1978   7-Apr-46   \n",
       "2         1970       1989  16-Apr-47   \n",
       "3         1991       2001   9-Mar-69   \n",
       "4         1998       2003   3-Nov-74   \n",
       "\n",
       "                                             college                 name  \\\n",
       "0                                    Duke University       Alaa Abdelnaby   \n",
       "1                              Iowa State University      Zaid Abdul-Aziz   \n",
       "2              University of California, Los Angeles  Kareem Abdul-Jabbar   \n",
       "3                         Louisiana State University   Mahmoud Abdul-Rauf   \n",
       "4  University of Michigan, San Jose State University    Tariq Abdul-Wahad   \n",
       "\n",
       "  position position.1  NBA__3ptapg  NBA__3ptpct  NBA__3ptpg  ...  NCAA_fgapg  \\\n",
       "0      F-C        F-C          0.0        0.000         0.0  ...         5.6   \n",
       "1      C-F        C-F          NaN          NaN         NaN  ...         NaN   \n",
       "2        C          C          0.0        0.056         0.0  ...        16.8   \n",
       "3        G          G          2.3        0.354         0.8  ...        21.9   \n",
       "4        F          F          0.3        0.237         0.1  ...         NaN   \n",
       "\n",
       "   NCAA_fg%  NCAA_fg_per_game  NCAA_ft  NCAA_ftapg  NCAA_ftpg  NCAA_g_played  \\\n",
       "0     0.599               3.3    0.728         2.5        1.8          134.0   \n",
       "1       NaN               NaN      NaN         NaN        NaN            NaN   \n",
       "2     0.639              10.7    0.628         7.9        5.0           88.0   \n",
       "3     0.474              10.4    0.863         6.4        5.5           64.0   \n",
       "4       NaN               NaN      NaN         NaN        NaN            NaN   \n",
       "\n",
       "   NCAA_ppg  NCAA_ppg.1  years_active  \n",
       "0       8.5         8.5             4  \n",
       "1       NaN         NaN             9  \n",
       "2      26.4        26.4            19  \n",
       "3      29.0        29.0            10  \n",
       "4       NaN         NaN             5  \n",
       "\n",
       "[5 rows x 33 columns]"
      ]
     },
     "execution_count": 1,
     "metadata": {},
     "output_type": "execute_result"
    }
   ],
   "source": [
    "#https://www.youtube.com/watch?v=HW29067qVWk.\n",
    "#I watched this video that showed me a tutorial and \n",
    "#walkthrough of the basic jupyter notebook features. \n",
    "import matplotlib.pyplot as plt\n",
    "import matplotlib as mpl\n",
    "from ipywidgets import interact, interactive, fixed, interact_manual\n",
    "import ipywidgets as widgets\n",
    "import pandas as pd\n",
    "import numpy as np\n",
    "stats = pd.read_csv(\"players.csv\")\n",
    "#https://pandas.pydata.org/docs/. I used the pandas documentation\n",
    "#that showed me how to use pandas to work with the data. \n",
    "stats[\"years_active\"] = stats[\"active_to\"] - stats[\"active_from\"]\n",
    "stats = stats.rename(columns = \n",
    "                                    {\"NCAA_games\": \"NCAA_g_played\", \"NCAA_fgpct\":\"NCAA_fg%\", \"NCAA_fgpg\":\"NCAA_fg_per_game\"})\n",
    "stats.head(5)"
   ]
  },
  {
   "cell_type": "markdown",
   "metadata": {},
   "source": [
    "## Information\n",
    "The .info() returns information about the date being worked with that shows that statistics being observed and the size of data. In this section, we can observe the variables included in this data set and that there are 4,576 entries. The entries begin in the late 1940s and end in 2017. There are some NA values in the data that are removed in some sections to ensure that only clean data is used. However, it was also applicable to replace some NA values with 0 to include those players in the data observed. For example, a player such as Lebron James', who did not attend college, data is still included in some sections for analysis. "
   ]
  },
  {
   "cell_type": "code",
   "execution_count": 2,
   "metadata": {},
   "outputs": [
    {
     "name": "stdout",
     "output_type": "stream",
     "text": [
      "<class 'pandas.core.frame.DataFrame'>\n",
      "RangeIndex: 4576 entries, 0 to 4575\n",
      "Data columns (total 33 columns):\n",
      "active_from         4576 non-null int64\n",
      "active_to           4576 non-null int64\n",
      "birth_date          4547 non-null object\n",
      "college             4274 non-null object\n",
      "name                4576 non-null object\n",
      "position            4575 non-null object\n",
      "position.1          4575 non-null object\n",
      "NBA__3ptapg         3448 non-null float64\n",
      "NBA__3ptpct         2953 non-null float64\n",
      "NBA__3ptpg          3448 non-null float64\n",
      "NBA_efgpct          3426 non-null float64\n",
      "NBA_fg%             4548 non-null float64\n",
      "NBA_fg_per_game     4576 non-null float64\n",
      "NBA_fga_per_game    4576 non-null float64\n",
      "NBA_ft%             4378 non-null float64\n",
      "NBA_ft_per_g        4576 non-null float64\n",
      "NBA_fta_p_g         4576 non-null float64\n",
      "NBA_g_played        4576 non-null int64\n",
      "NBA_ppg             4576 non-null float64\n",
      "NCAA__3ptapg        1868 non-null float64\n",
      "NCAA__3ptpct        1726 non-null float64\n",
      "NCAA__3ptpg         1871 non-null float64\n",
      "NCAA_efgpct         0 non-null float64\n",
      "NCAA_fgapg          2582 non-null float64\n",
      "NCAA_fg%            2583 non-null float64\n",
      "NCAA_fg_per_game    2598 non-null float64\n",
      "NCAA_ft             2594 non-null float64\n",
      "NCAA_ftapg          2592 non-null float64\n",
      "NCAA_ftpg           2598 non-null float64\n",
      "NCAA_g_played       2598 non-null float64\n",
      "NCAA_ppg            2598 non-null float64\n",
      "NCAA_ppg.1          2598 non-null float64\n",
      "years_active        4576 non-null int64\n",
      "dtypes: float64(24), int64(4), object(5)\n",
      "memory usage: 1.2+ MB\n"
     ]
    }
   ],
   "source": [
    "stats.info()"
   ]
  },
  {
   "cell_type": "markdown",
   "metadata": {},
   "source": [
    "## Base Data Visualization\n",
    "The base data visualization allows the user to select a statistic they wish to choose from in order to observe the distribution of that statistic among the players. The first plot shows the distribution of whatever statistic the user wishes. The intent is that outliers or high percentages are highlighted. Additionally, observing the distriution of each statistic provides initial insight into that statistic that may be useful in understanding high performing players. "
   ]
  },
  {
   "cell_type": "code",
   "execution_count": 3,
   "metadata": {},
   "outputs": [
    {
     "data": {
      "application/vnd.jupyter.widget-view+json": {
       "model_id": "e57e1a09535542c9b7db2212355c0978",
       "version_major": 2,
       "version_minor": 0
      },
      "text/plain": [
       "interactive(children=(Dropdown(description='x', options=('NBA__3ptapg', 'NBA__3ptpct', 'NBA__3ptpg', 'NBA_efgp…"
      ]
     },
     "metadata": {},
     "output_type": "display_data"
    }
   ],
   "source": [
    "%matplotlib inline\n",
    "#https://matplotlib.org/3.1.1/contents.html\n",
    "#I used the matplotlib documentation to create\n",
    "#the plots below\n",
    "\n",
    "#https://www.youtube.com/watch?v=rkBPgTL-D3Y&t=407s\n",
    "#I watched this youtube video and it included multiple examples\n",
    "#on how to display interactive plots. \n",
    "x = stats[\"NBA_ppg\"].dropna()\n",
    "#hist1 called with interact displays an interactive char explained above\n",
    "def hist1(x):\n",
    "    plt.hist(stats[x].dropna(), color = \"C1\",edgecolor =\"black\",\n",
    "                linewidth = 3,bins = 20)\n",
    "    plt.style.use(\"ggplot\")\n",
    "    plt.title(\"Count of Stats\")  \n",
    "    mpl.rcParams['grid.color'] = 'k'\n",
    "    mpl.rcParams['grid.linestyle'] = ':'\n",
    "    mpl.rcParams['grid.linewidth'] = 0.5\n",
    "    mpl.rcParams['figure.facecolor'] = '1'\n",
    "    mpl.rcParams['figure.figsize'] = [10.0, 7.50]\n",
    "\n",
    "#builds the stat list based on the statistic names from the data frame\n",
    "stat = []\n",
    "for col in stats.columns:\n",
    "        stat += [col]\n",
    "stat = stat[7:]\n",
    "    \n",
    "interactive(hist1, x = stat)\n"
   ]
  },
  {
   "cell_type": "markdown",
   "metadata": {},
   "source": [
    "The next barchart shows players that improved the most in their NBA stats. The intent is that the user will be able to look into these players deeper to find what caused that improvement. This was done by subtracting the players college points per game from the nba points per game. In this chart, the players with no college statistics are removed from the data in order to not skew the data. "
   ]
  },
  {
   "cell_type": "code",
   "execution_count": 4,
   "metadata": {},
   "outputs": [
    {
     "data": {
      "application/vnd.jupyter.widget-view+json": {
       "model_id": "b74715bd826c478fb573ad852ad7fb7b",
       "version_major": 2,
       "version_minor": 0
      },
      "text/plain": [
       "interactive(children=(Dropdown(description='size', options=(5, 8, 10, 12, 15), value=5), Output()), _dom_class…"
      ]
     },
     "metadata": {},
     "output_type": "display_data"
    },
    {
     "data": {
      "text/plain": [
       "<function __main__.hist2(size)>"
      ]
     },
     "execution_count": 4,
     "metadata": {},
     "output_type": "execute_result"
    }
   ],
   "source": [
    "stats[\"ppg_diff\"] = stats[\"NBA_ppg\"] - stats[\"NCAA_ppg\"]\n",
    "players_with_p = stats.fillna(0)\n",
    "players_with_p.sort_values(by = \"ppg_diff\", ascending = False)\n",
    "#hist2 when called with interact displays an interactive plot\n",
    "def hist2(size):   \n",
    "    top_n = players_with_p.nlargest(size, 'ppg_diff')\n",
    "    names = top_n[\"name\"]\n",
    "    c = top_n[\"position\"]\n",
    "    y_pos = np.arange(len(names))\n",
    "    plt.bar(y_pos, top_n[\"ppg_diff\"],edgecolor =\"black\",\n",
    "                linewidth = 3, color = \"C1\")\n",
    "    plt.xticks(y_pos, names, rotation = 90)\n",
    "    plt.title(\"Top Players: Improved\")\n",
    "    mpl.rcParams['grid.color'] = 'k'\n",
    "    mpl.rcParams['grid.linestyle'] = ':'\n",
    "    mpl.rcParams['grid.linewidth'] = 0.5\n",
    "    mpl.rcParams['figure.facecolor'] = '1'\n",
    "    mpl.rcParams['figure.figsize'] = [10.0, 7.50]\n",
    "    \n",
    "interact(hist2, size = [5,8,10,12,15])"
   ]
  },
  {
   "cell_type": "markdown",
   "metadata": {},
   "source": [
    "The next chart also highlights differences between a player's college and NBA statistics. However, this chart allows the user to choose which statistic they wish to observe the differences in and also the size of the bar chart. By choosing the size, the user is able to more closely analyze the players with the largest differences. "
   ]
  },
  {
   "cell_type": "code",
   "execution_count": 5,
   "metadata": {},
   "outputs": [
    {
     "data": {
      "application/vnd.jupyter.widget-view+json": {
       "model_id": "ef4c825a72ae429d93086ae93a5bae73",
       "version_major": 2,
       "version_minor": 0
      },
      "text/plain": [
       "interactive(children=(Dropdown(description='size', options=(5, 8, 10, 12, 15), value=5), Dropdown(description=…"
      ]
     },
     "metadata": {},
     "output_type": "display_data"
    },
    {
     "data": {
      "text/plain": [
       "<function __main__.hist3(size, data)>"
      ]
     },
     "execution_count": 5,
     "metadata": {},
     "output_type": "execute_result"
    }
   ],
   "source": [
    "\n",
    "data = [\"ppg\", \"g_played\", \"fg_per_game\", \"fg%\"]\n",
    "players_with_p = stats\n",
    "#hist3 when called with interact displays an interactive chart \n",
    "def hist3(size, data):\n",
    "    top_n = players_with_p.nlargest(size, \"NBA_\"+data)\n",
    "    names = top_n[\"name\"]\n",
    "    c = top_n[\"position\"]\n",
    "    y_pos = np.arange(len(names))\n",
    "    width = len(names)/(2*len(y_pos))\n",
    "    plt.bar(y_pos, top_n[\"NBA_\"+data], color = \"C1\",width = width, edgecolor = \"black\", linewidth = \n",
    "                3)\n",
    "    plt.bar(y_pos + width, top_n[\"NCAA_\"+data], color = \"C4\",width = width, edgecolor =\"black\",\n",
    "                linewidth = 3)\n",
    "    plt.xticks(y_pos + (width/2), names, rotation = 90)\n",
    "    plt.title(\"Top \" +str(size) + \" Players: Statistic Differences in \" + data)\n",
    "    mpl.rcParams['grid.color'] = 'k'\n",
    "    mpl.rcParams['grid.linestyle'] = ':'\n",
    "    mpl.rcParams['grid.linewidth'] = 0.5\n",
    "    mpl.rcParams['figure.facecolor'] = '1'\n",
    "    mpl.rcParams['figure.figsize'] = [10.0, 7.50]\n",
    "interact(hist3, data = data, size = [5,8,10,12,15])"
   ]
  },
  {
   "cell_type": "markdown",
   "metadata": {},
   "source": [
    "The next goal is to allow the use to observe trends in both college and NBA stats throughout history. The user will be allowed to choose a year from 1948 to 2017, select whether they wish to observe NCAA stats, NBA stats, or both, the size of the chart, and the statistic. For each year, if a player was active during those years, they will be included in the analysis. The analysis is somewhat limited in the early years because there is not much data from those years. "
   ]
  },
  {
   "cell_type": "code",
   "execution_count": 6,
   "metadata": {},
   "outputs": [
    {
     "data": {
      "application/vnd.jupyter.widget-view+json": {
       "model_id": "a7c81f3f1eb943ed86e64e4e65c20f4c",
       "version_major": 2,
       "version_minor": 0
      },
      "text/plain": [
       "interactive(children=(Dropdown(description='year', options=(1948, 1949, 1950, 1951, 1952, 1953, 1954, 1955, 19…"
      ]
     },
     "metadata": {},
     "output_type": "display_data"
    },
    {
     "data": {
      "text/plain": [
       "<function __main__.historical(year, data, size, college)>"
      ]
     },
     "execution_count": 6,
     "metadata": {},
     "output_type": "execute_result"
    }
   ],
   "source": [
    "match = stats\n",
    "\n",
    "def historical(year, data, size, college):\n",
    "    active_players = match.loc[(match[\"active_from\"] < year) & (match[\"active_to\"] > year)]\n",
    "    if college == \"Both\":\n",
    "        top_n = active_players.nlargest(size, \"NBA_\"+data)\n",
    "        names = top_n[\"name\"]\n",
    "        y_pos = np.arange(len(names))\n",
    "        width = len(names)/(2*len(y_pos))\n",
    "        plt.bar(y_pos, top_n[\"NBA_\"+data], color = \"C1\",width = width, edgecolor = \"black\", linewidth = \n",
    "                3)\n",
    "        plt.bar(y_pos + width, top_n[\"NCAA_\"+data], color = \"C4\",width = width, edgecolor =\"black\",\n",
    "                linewidth = 3)\n",
    "        plt.xticks(y_pos + (width/2), names, rotation = 90)\n",
    "        plt.title(\"College and NBA Stats: Top \" + str(size)+ \" Players Who Played in \" + str(year) + \" by \" + data)\n",
    "    if college == \"NBA\":\n",
    "        top_n = active_players.nlargest(size, \"NBA_\"+data)\n",
    "        names = top_n[\"name\"]\n",
    "        y_pos = np.arange(len(names))\n",
    "        plt.bar(y_pos, top_n[\"NBA_\"+data],color = \"C1\", edgecolor = \"black\", linewidth = \n",
    "                3)\n",
    "        plt.xticks(y_pos, names, rotation = 90)\n",
    "        plt.title(\"NBA Stats: Top \" + str(size)+ \" Players Who Played in \" + str(year) + \" by \" + data)\n",
    "    if college == \"NCAA\":\n",
    "        top_n = active_players.nlargest(size, \"NCAA_\"+data)\n",
    "        names = top_n[\"name\"]\n",
    "        y_pos = np.arange(len(names))\n",
    "        plt.bar(y_pos, top_n[\"NCAA_\"+data],color = \"C4\", edgecolor = \"black\", linewidth = \n",
    "                3)\n",
    "        plt.xticks(y_pos, names, rotation = 90)\n",
    "        plt.title(\"College Stats: Top \" + str(size)+ \" Players Who Played in \" + str(year) + \" by \" + data)\n",
    "    mpl.rcParams['grid.color'] = 'k'\n",
    "    mpl.rcParams['grid.linestyle'] = ':'\n",
    "    mpl.rcParams['grid.linewidth'] = 0.5\n",
    "    mpl.rcParams['figure.facecolor'] = '1'\n",
    "    mpl.rcParams['figure.figsize'] = [10.0, 7.50]\n",
    "    \n",
    "interact(historical, data = data, year = list(range(1948,2018)), size =[5,8,10,12,15, 20, 25], college = [\"Both\", \"NCAA\", \"NBA\"] )\n"
   ]
  },
  {
   "cell_type": "markdown",
   "metadata": {},
   "source": [
    "## College Analysis\n",
    "The next step is to analyze players college statistics to give NBA scouts a better idea of trends of players. The first plot displays the top colleges. This was calculated by counting the overall number of players who have from that college and made it to the NBA. "
   ]
  },
  {
   "cell_type": "code",
   "execution_count": 7,
   "metadata": {
    "scrolled": true
   },
   "outputs": [
    {
     "data": {
      "application/vnd.jupyter.widget-view+json": {
       "model_id": "b6bcc9eecbc746a69583505880774b54",
       "version_major": 2,
       "version_minor": 0
      },
      "text/plain": [
       "interactive(children=(IntSlider(value=9, description='size', max=18, min=3, step=3), Output()), _dom_classes=(…"
      ]
     },
     "metadata": {},
     "output_type": "display_data"
    },
    {
     "data": {
      "text/plain": [
       "<function __main__.hist4(size)>"
      ]
     },
     "execution_count": 7,
     "metadata": {},
     "output_type": "execute_result"
    }
   ],
   "source": [
    "colleges = pd.DataFrame({\"count\" :stats.groupby(\"college\").size()}).reset_index()\n",
    "#https://stackoverflow.com/questions/10373660/converting-a-pandas-groupby-output-from-series-to-dataframe\n",
    "#I use this website in creating the line of code above that returns a grouped by data frame. \n",
    "def hist4(size):   \n",
    "    top_n = colleges.nlargest(size, 'count')\n",
    "    names = top_n[\"college\"]\n",
    "    y_pos = np.arange(len(names))\n",
    "    plt.bar(y_pos, top_n[\"count\"], color = \"C1\", edgecolor = \"black\", linewidth = 3)\n",
    "    plt.xticks(y_pos, names, rotation = 90)\n",
    "    plt.title(\"Top \" + str(size) + \" Colleges With Players in NBA\")\n",
    "    mpl.rcParams['grid.color'] = 'k'\n",
    "    mpl.rcParams['grid.linestyle'] = ':'\n",
    "    mpl.rcParams['grid.linewidth'] = 0.5\n",
    "    mpl.rcParams['figure.facecolor'] = '1'\n",
    "    mpl.rcParams['figure.figsize'] = [10.0, 7.50]\n",
    "    \n",
    "interact(hist4, size = (3,18,3))  "
   ]
  },
  {
   "cell_type": "markdown",
   "metadata": {},
   "source": [
    "Along with counting the total players coming from a college in determining the quality of players from those colleges, it useful to see differences in NBA and NCAA statistics of players from those colleges. We can assume that colleges with a higher difference of NCAA and NBA stats are more likely to be successful in the NBA. The difference functionality allows the user to observe these trends. Additionally, without the difference functionality, the user is able to select a statistic to see the average player statistic in that category in both NBA and NCAA statistics. "
   ]
  },
  {
   "cell_type": "code",
   "execution_count": 8,
   "metadata": {},
   "outputs": [
    {
     "data": {
      "application/vnd.jupyter.widget-view+json": {
       "model_id": "4386c432529d44e8aca4e661ff097fc2",
       "version_major": 2,
       "version_minor": 0
      },
      "text/plain": [
       "interactive(children=(Dropdown(description='size', options=(5, 8, 10, 12, 15), value=5), Dropdown(description=…"
      ]
     },
     "metadata": {},
     "output_type": "display_data"
    },
    {
     "data": {
      "text/plain": [
       "<function __main__.avg_stats(size, stat, diff)>"
      ]
     },
     "execution_count": 8,
     "metadata": {},
     "output_type": "execute_result"
    }
   ],
   "source": [
    "colleges = colleges.nlargest(25, \"count\")\n",
    "stats\n",
    "\n",
    "new_col = pd.merge(colleges, match, on = \"college\")\n",
    "\n",
    "def avg_stats(size, stat, diff):\n",
    "    ncaa = new_col.groupby(\"college\", as_index = False)[\"NCAA_\"+stat].mean()\n",
    "    nba = new_col.groupby(\"college\", as_index = False)[\"NBA_\"+stat].mean()\n",
    "    merg = pd.merge(ncaa, nba, on = \"college\")\n",
    "    college = merg[\"college\"]\n",
    "    if diff == True:\n",
    "        merg[stat+\"diff\"] = merg[\"NBA_\"+stat] - merg[\"NCAA_\"+stat]\n",
    "        top_n = merg.nlargest(size, stat+\"diff\")\n",
    "        y_pos = np.arange(len(top_n[stat+\"diff\"]))\n",
    "        width = len(top_n[stat+\"diff\"])/(len(y_pos))\n",
    "        plt.bar(y_pos, -top_n[stat+\"diff\"], color = \"C1\",width = width, edgecolor = \"black\", linewidth = \n",
    "                3)\n",
    "        plt.xticks(y_pos, college, rotation = 90)\n",
    "        plt.title(\"Top Players: Statistic Differences\")\n",
    "    else:\n",
    "        top_n = merg.nlargest(size, \"NCAA_\"+stat)\n",
    "        y_pos = np.arange(len(top_n[\"NCAA_\"+stat]))\n",
    "        width = len(top_n[\"NCAA_\"+stat])/(2*len(y_pos))\n",
    "        plt.bar(y_pos, top_n[\"NCAA_\"+stat], color = \"C1\",width = width, edgecolor = \"black\", linewidth = \n",
    "                3)\n",
    "        plt.bar(y_pos + width, top_n[\"NBA_\"+stat], color = \"C4\",width = width, edgecolor =\"black\",\n",
    "                linewidth = 3)\n",
    "        plt.xticks(y_pos + width/2, college, rotation = 90)\n",
    "        plt.title(\"Top \" + str(size)+ \" Colleges: Statistic Differences in \" + stat)\n",
    "    mpl.rcParams['grid.color'] = 'k'\n",
    "    mpl.rcParams['grid.linestyle'] = ':'\n",
    "    mpl.rcParams['grid.linewidth'] = 0.5\n",
    "    mpl.rcParams['figure.facecolor'] = '1'\n",
    "    mpl.rcParams['figure.figsize'] = [10.0, 7.50]\n",
    "interact(avg_stats, stat = data, size = [5,8,10,12,15], diff = False)"
   ]
  },
  {
   "cell_type": "markdown",
   "metadata": {},
   "source": [
    "Much like the player historical data section, this section explores historical data and allows the user to select the time period they are interested in. This section highlights the colleges that were successful in those years in having a high output of NBA players. "
   ]
  },
  {
   "cell_type": "code",
   "execution_count": 9,
   "metadata": {},
   "outputs": [
    {
     "data": {
      "application/vnd.jupyter.widget-view+json": {
       "model_id": "99204da77ebf4417ab318abad22edea3",
       "version_major": 2,
       "version_minor": 0
      },
      "text/plain": [
       "interactive(children=(Dropdown(description='year', options=(1950, 1951, 1952, 1953, 1954, 1955, 1956, 1957, 19…"
      ]
     },
     "metadata": {},
     "output_type": "display_data"
    },
    {
     "data": {
      "text/plain": [
       "<function __main__.historical2(year, size)>"
      ]
     },
     "execution_count": 9,
     "metadata": {},
     "output_type": "execute_result"
    }
   ],
   "source": [
    "def historical2(year, size):\n",
    "    active_players = match.loc[(match[\"active_from\"] < year) & (match[\"active_to\"] > year)]\n",
    "    colleges = pd.DataFrame({\"count\" :active_players.groupby(\"college\").size()}).reset_index()\n",
    "    top_n = colleges.nlargest(size, \"count\")\n",
    "    names = top_n[\"college\"]\n",
    "    y_pos = np.arange(len(names))\n",
    "    plt.bar(y_pos, top_n[\"count\"], color = \"C1\", edgecolor = \"black\", linewidth = 3)\n",
    "    plt.xticks(y_pos, names, rotation = 90)\n",
    "    plt.title(\"Top \" + str(size) + \" Colleges With Players in NBA in \" + str(year))\n",
    "    mpl.rcParams['grid.color'] = 'k'\n",
    "    mpl.rcParams['grid.linestyle'] = ':'\n",
    "    mpl.rcParams['grid.linewidth'] = 0.5\n",
    "    mpl.rcParams['figure.facecolor'] = '1'\n",
    "    mpl.rcParams['figure.figsize'] = [10.0, 7.50]\n",
    "\n",
    "interact(historical2, year = list(range(1950, 2018)), size = [5,8,10,12,15, 20, 25])\n",
    "    "
   ]
  },
  {
   "cell_type": "markdown",
   "metadata": {},
   "source": [
    "Finally, the last bar chart allows the user to select from the top 25 colleges with NBA player output. This bar chart shows that college's output of NBA players throughout the decades and highlights when those colleges were most successful. We can assume that the more NBA players a college has during a decade, the better their team is. It is interesting to note when each college is the most successful in creating NBA players and their trend throughout the decades. "
   ]
  },
  {
   "cell_type": "code",
   "execution_count": null,
   "metadata": {},
   "outputs": [],
   "source": [
    "def historical_colleges(college):\n",
    "    years = [\"50s\", \"60s\", \"70s\", \"80s\", \"90s\", \"2000s\", \"2010s\"]\n",
    "    players = stats.loc[stats[\"college\"] == college]\n",
    "    one = len(players.loc[(players[\"active_from\"] < 1960) & (players[\"active_from\"] > 1940)].index)\n",
    "    two = len(players.loc[(players[\"active_from\"] < 1970) & (players[\"active_from\"] > 1959)].index)\n",
    "    three = len(players.loc[(players[\"active_from\"] < 1980) & (players[\"active_from\"] > 1969)].index)\n",
    "    four = len(players.loc[(players[\"active_from\"] < 1990) & (players[\"active_from\"] > 1979)].index)\n",
    "    five = len(players.loc[(players[\"active_from\"] < 2000) & (players[\"active_from\"] > 1989)].index)\n",
    "    six = len(players.loc[(players[\"active_from\"] < 2010) & (players[\"active_from\"] > 1999)].index)\n",
    "    seven = len(players.loc[(players[\"active_from\"] < 2020) & (players[\"active_from\"] > 2009)].index)\n",
    "    count = [one, two, three, four, five, six, seven]\n",
    "    y_pos = np.arange(len(years))\n",
    "    plt.bar(y_pos, count, color = \"C1\", edgecolor = \"black\", linewidth = 3)\n",
    "    plt.xticks(y_pos, years, rotation = 90)\n",
    "    plt.title(\"Players to NBA from \" + college)\n",
    "    mpl.rcParams['grid.color'] = 'k'\n",
    "    mpl.rcParams['grid.linestyle'] = ':'\n",
    "    mpl.rcParams['grid.linewidth'] = 0.5\n",
    "    mpl.rcParams['figure.facecolor'] = '1'\n",
    "    mpl.rcParams['figure.figsize'] = [10.0, 7.50]\n",
    " \n",
    "college_names = colleges[\"college\"]\n",
    "interact(historical_colleges, college = college_names)\n",
    "\n",
    "\n",
    "\n"
   ]
  }
 ],
 "metadata": {
  "kernelspec": {
   "display_name": "Python 3",
   "language": "python",
   "name": "python3"
  },
  "language_info": {
   "codemirror_mode": {
    "name": "ipython",
    "version": 3
   },
   "file_extension": ".py",
   "mimetype": "text/x-python",
   "name": "python",
   "nbconvert_exporter": "python",
   "pygments_lexer": "ipython3",
   "version": "3.7.4"
  },
  "widgets": {
   "application/vnd.jupyter.widget-state+json": {
    "state": {
     "094327040955422d8674156185fd2d96": {
      "model_module": "@jupyter-widgets/output",
      "model_module_version": "1.0.0",
      "model_name": "OutputModel",
      "state": {
       "layout": "IPY_MODEL_58d0e122a2474bf2a9ab0831056f2ff0",
       "outputs": [
        {
         "data": {
          "image/png": "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\n",
          "text/plain": "<Figure size 720x540 with 1 Axes>"
         },
         "metadata": {},
         "output_type": "display_data"
        }
       ]
      }
     },
     "0c8b437509a84bcf981c292d9770e88d": {
      "model_module": "@jupyter-widgets/base",
      "model_module_version": "1.2.0",
      "model_name": "LayoutModel",
      "state": {}
     },
     "0ccee79e2a0c4284b66ff6aa09c684cb": {
      "model_module": "@jupyter-widgets/controls",
      "model_module_version": "1.5.0",
      "model_name": "VBoxModel",
      "state": {
       "_dom_classes": [
        "widget-interact"
       ],
       "children": [
        "IPY_MODEL_d557738870e141579d28c42bbc88e1c2",
        "IPY_MODEL_800dc5ebad05471da8dfb635f54fb6ea"
       ],
       "layout": "IPY_MODEL_1ae00b94df324ca588a0ab4b74c55069"
      }
     },
     "0e916a241dc24926b588f3cbb9bf271b": {
      "model_module": "@jupyter-widgets/base",
      "model_module_version": "1.2.0",
      "model_name": "LayoutModel",
      "state": {}
     },
     "10a1fc5a98b54cf8970c0bf77dcfe380": {
      "model_module": "@jupyter-widgets/base",
      "model_module_version": "1.2.0",
      "model_name": "LayoutModel",
      "state": {}
     },
     "112b4f2494b74e06ba4d9a341b8a9ed5": {
      "model_module": "@jupyter-widgets/base",
      "model_module_version": "1.2.0",
      "model_name": "LayoutModel",
      "state": {}
     },
     "163cd856dc86471faa64baa22a90ac97": {
      "model_module": "@jupyter-widgets/controls",
      "model_module_version": "1.5.0",
      "model_name": "DescriptionStyleModel",
      "state": {
       "description_width": ""
      }
     },
     "167a3dada682407e82e77be942b4e533": {
      "model_module": "@jupyter-widgets/controls",
      "model_module_version": "1.5.0",
      "model_name": "DescriptionStyleModel",
      "state": {
       "description_width": ""
      }
     },
     "19be567934cc4b2b8b6e62966f3734d9": {
      "model_module": "@jupyter-widgets/base",
      "model_module_version": "1.2.0",
      "model_name": "LayoutModel",
      "state": {}
     },
     "1ae00b94df324ca588a0ab4b74c55069": {
      "model_module": "@jupyter-widgets/base",
      "model_module_version": "1.2.0",
      "model_name": "LayoutModel",
      "state": {}
     },
     "1ceab0fbe13c4ae49c6604ba814ba148": {
      "model_module": "@jupyter-widgets/base",
      "model_module_version": "1.2.0",
      "model_name": "LayoutModel",
      "state": {}
     },
     "2044002334474a1aa49a3cba8dfa6045": {
      "model_module": "@jupyter-widgets/base",
      "model_module_version": "1.2.0",
      "model_name": "LayoutModel",
      "state": {}
     },
     "209d973978984041841e7bb38d87f292": {
      "model_module": "@jupyter-widgets/controls",
      "model_module_version": "1.5.0",
      "model_name": "DescriptionStyleModel",
      "state": {
       "description_width": ""
      }
     },
     "24707d6e950748a897a9ad56b5d8d541": {
      "model_module": "@jupyter-widgets/base",
      "model_module_version": "1.2.0",
      "model_name": "LayoutModel",
      "state": {}
     },
     "2a32a497ae0d40c38dce69a7b7ed6e37": {
      "model_module": "@jupyter-widgets/output",
      "model_module_version": "1.0.0",
      "model_name": "OutputModel",
      "state": {
       "layout": "IPY_MODEL_10a1fc5a98b54cf8970c0bf77dcfe380",
       "outputs": [
        {
         "data": {
          "image/png": "iVBORw0KGgoAAAANSUhEUgAAAlAAAAIhCAYAAACBnIQhAAAABHNCSVQICAgIfAhkiAAAAAlwSFlzAAALEgAACxIB0t1+/AAAADh0RVh0U29mdHdhcmUAbWF0cGxvdGxpYiB2ZXJzaW9uMy4xLjEsIGh0dHA6Ly9tYXRwbG90bGliLm9yZy8QZhcZAAAgAElEQVR4nOzdeVxUhf7/8fewKCKiyCqI0Ii4L6mllqap7eXt25fUrLT9utxf2eLyrW7mw/qGlNWtXNostdutvO1ee9hFbRGXMrMsN1wwBBFQShFknd8fXeYrLjAHhznn2Ov5ePiIOTPMvIePjW/O6nC5XC4BAADAY35mBwAAALAbChQAAIBBFCgAAACDKFAAAAAGUaAAAAAMokABAAAYRIECUK/+/fvrL3/5i9kx4EXTp09Xt27dzI4B2BYFCjCZw+Go809iYmKjvv6CBQtqvV5MTIz+9Kc/adu2bY36umYbPXq0rr32WrNjALApChRgsgMHDrj/fPzxx5Kkb775xr3s22+/bfQMwcHBOnDggHJzc/X+++/rl19+0ZVXXqljx441+msbUVFRYXYErygvLzc7AoCzRIECTBYTE+P+07p1a0lSZGSke1lkZKQk6ddff9Wdd96piIgIBQUFqV+/flq9erX7ebZv3y6Hw6F33nlHQ4YMUVBQkJKSkrR06dJ6M9SseWrTpo0uvvhiPfPMM/rll1+0cePG0z5++fLluuSSS9S6dWu1atVKQ4cO1aZNm9z3jxo1SiNGjDjl+wYMGKDx48fXep7+/furWbNmatu2re6++24VFRW5769ZSzRnzhwlJCSoadOmqqys1OrVqzVgwACFhIQoNDRU559/fq2fRUOc+FpxcXFq0aKFJk6cqKqqKr3wwguKj49X69atNWnSJFVWVrq/r3///powYYIefPBBhYeHq2XLlpowYYLKyspOecz06dMVExOj9u3bS6p/pn369NG99957Slan06nHH3/cfXvJkiXq0aOHgoKCdN5552nq1KkqLS11319SUqK77rpLoaGhat26te69995zpowCZqFAATZx66236osvvtA777yjTZs2qXfv3rrqqqu0Z8+eWo976KGHNGHCBP3www+64YYbNHr0aG3ZssXQazVr1kzSmdf4HDt2TJMnT9aGDRu0Zs0atW3bVldeeaV+++03SdL48eO1fPly5eTkuL9n69atWr9+ve6++25J0meffaYbb7xR48aN05YtW/T+++9r27ZtGjVqVK3X+vLLL7VhwwZ9+umn+v7771VVVaURI0Zo8ODB2rx5szZu3KhHH31UQUFB7u/p37+/rrzySkPvWZK+/vprbd++XStXrtSiRYv06quv6rrrrtOPP/6ozz//XAsXLtSrr76qJUuW1Pq+v//97zp+/LgyMjK0aNEivffee/rrX/9a6zFvvfWWSkpKtHr1ai1fvlxS/TMdO3as/vGPf9Saw5o1a7R3716NHTtW0u+bYO+//35Nnz5dW7du1cKFC7Vs2bJaxevBBx/Uv/71L7399tvKyMiQJL366quGfz4ATuACYBlff/21S5Jr7969tZb/9NNPLkmulStXupdVV1e7unTp4powYYLL5XK5tm3b5pLkeuKJJ2p9b+/evV133nnnGV9z/vz5rubNm7tv5+XluS6//HJXWFiY6/Dhwy6Xy+Xq16+fa9KkSWd8joqKCldwcLDrn//8p3tZcnKya9asWe7bkydPdp1//vnu2/369XPNmDGj1vPs2LHDJcm1bds2l8vlco0aNcoVHh7uKikpcT8mNzfXJcm1bt26M+YZNWqU66677jrj/TWPueaaa2rdjouLc1VUVLiXDR061NWmTRtXeXm5e9nll1/uuvnmm2u9jw4dOriqq6vdy/72t7+5mjVr5iorK3M/pmvXrrUe48lM8/PzXYGBga6PPvrI/Zi7777bNXDgQPfjY2JiXG+88Uat97ZixQqXw+FwHTt2zFVUVOQKCAhwLV68uNbrdOvWzdW1a9c6f0YAzow1UIAN/Pzzz/Lz89PAgQPdyxwOhwYNGqSff/651mMHDBhQ6/ZFF12krVu31vn8x44dU0hIiJo3b66YmBjl5OTogw8+UFhY2Gkfn5mZqTFjxqh9+/YKDQ1Vq1atVFpaqn379rkfc8899+j111+Xy+VSWVmZlixZonvuuUeS5HK59N133yk1NVUhISHuP71793Y/f43u3bu714hJUps2bXTLLbdoyJAhuuaaa5SWlqZdu3bVyvfOO+80aA1L165dFRAQ4L4dExOjzp07KzAwsNay/Pz8Wt/Xv39/ORwO9+2LL75YpaWlysrKci+74IILaj3Gk5lGRkbqyiuv1OLFiyVJZWVlWrp0qcaNGydJ2r9/v/Ly8jRx4sRaP8f/+q//ksvl0u7du7Vz505VVlbqoosuqvU6F198seGfD4D/E1D/QwBYlcvlqvWP8pkeU5/g4GBt3rxZDodD0dHRCgkJqfPxV111lRISErRgwQLFxcWpSZMmuuCCC2rtHH3bbbfpkUce0b///W8dPnxYx48f15gxY9yZqqurNXPmTI0cOfKU52/Tpo376+bNm59y/5IlSzRlyhR9/vnn+ve//61HH31Ur7zyim677bZ632tdTixK0u9F43TLqqur63ye0/3MT/c+zvS9J8503LhxGjNmjIqKipSenq7jx4/rxhtvlCR3jgULFtQqSDXi4+O1efNmd24A3kOBAmyga9euqq6u1po1azR06FBJv/9Dm5GRocGDB9d67Pr1692PkaR169apV69edT6/w+FQUlKSR1lycnK0e/duvfrqq7r00kslSXv27NGvv/5a63Hh4eFKSUnRq6++qsOHD2vUqFEKDQ2VJPn5+al3797aunWrx697sh49eqhHjx566KGHdNttt+nVV1896wLVUBs2bKhVfNatW6dmzZrVeQoKT2d63XXXKSQkRO+8844+++wzXX/99WrZsqWk3wtSVFSUdu7c6d4n6mTJyckKCAhQRkaGnE6ne/natWvP9m0Df2gUKMAGunbtquuuu0733HOPe63PCy+8oF27dumTTz6p9dj58+crKSlJvXr10sKFC7V582a98cYbXssSFRWlVq1a6eWXX1bbtm2Vn5+vqVOn1tqJu8af//xnDR06VFVVVVq3bl2t+5544gldc801io2N1c0336zmzZsrMzNT7777rl5//XX5+/uf9vW3bt2qt956S9dcc43atm2r/fv3a926dbrkkkvcjxk9erRatGjhsx2lDxw4oPvuu08TJ07Ujh07NHPmTE2cOFFNmjQ54/d4OtMmTZpo1KhRmjt3rnbu3Ok+1YX0exF94okn9P/+3/9TSEiIRowYIT8/P23dulUrV67U3LlzFRYWpjvuuEPTp09XeHi4nE6nFixYoKysLLVr165Rfy7AuYwCBdjE4sWL9eCDD2r06NE6evSoevXqpc8++6zWWgVJSktL04svvqhvv/1WsbGxevvtt9WjRw+v5QgMDNTSpUs1efJkde/eXU6nU6mpqZo4ceIpjx00aJA6dOigwMBA9evXr9Z9V1xxhT7//HPNmjVL8+bNkyQlJCToiiuukJ/fmXfPbNGihbZu3apFixapsLBQERERGjFihNLS0tyPycrKUqtWrbz0jut38803y8/PTwMGDFBVVZVGjx6tJ554ot7v83Sm48aN0/z58xUTE6PLL7+81n133323wsLC9PTTT2vmzJkKDAxUUlKSezOfJD377LOqqKjQ6NGj5e/vr5tuukl33323VqxY4Z0fAPAH5HB5soMEAMvbvn27OnfurG+//VZ9+/Y1O46k33d6jo+P14wZMzRp0iSz4zSK/v37q2/fvnrppZfMjgLAh1gDBcDrqqqqlJ+frxdffFFVVVWm7ZsEAI2FAgXA6zIzM9W5c2fFxcVp0aJFHh+BBgB2wSY8AAAAgziRJgAAgEEUKAAAAIN8vg9Ubm6ur1/SstauXXvaswfDOpiRPTAne2BO1seMaouNjT3jfayBMtHJl4iA9TAje2BO9sCcrI8ZeY4CZaK6LvMAa2BG9sCc7IE5WR8z8hwFykQHDx40OwLqwYzsgTnZA3OyPmbkOQqUiY4cOWJ2BNSDGdkDc7IH5mR9zMhzFCgTneliqbAOZmQPzMkemJP1MSPPUaBM1L59e7MjoB7MyB6Ykz0wJ+tjRp6jQJmooKDA7AioBzOyB+ZkD8zJ+piR5yhQJioqKjI7AurBjOyBOdkDc7I+ZuQ5ChQAAIBBFCgTdejQwewIqAczsgfmZA/MyfqYkecoUCZiVan1MSN7YE72wJysjxl5jgJlosLCQrMjoB7MyB6Ykz0wJ+tjRp6jQAEAABhEgTKR0+k0OwLqwYzsgTnZA3OyPmbkOQqUiYqLi82OgHowI3tgTvbAnKyPGXmOAmWi/Px8syOgHszIHpiTPTAn62NGnqNAAQAAGBRgdgBviouLMzvCOS0nJ8fsCD6XkJBgdgR4gDnZA3OyPmbkOdZAAXWoqKgwOwI8wJzsgTlZHzPyHAUKqENubq7ZEeAB5mQPzMn6mJHnzqlNeCfqm7bS7AjnhI1Th5kdAQAAy2ENFFCH+Ph4syPAA8zJHpiT9TEjz1GgAAAADKJAAXXIzs42OwI8wJzsgTlZHzPyHAUKAADAIAoUUIfY2FizI8ADzMkemJP1MSPPUaCAOgQGBpodAR5gTvbAnKyPGXmOAgXUYd++fWZHgAeYkz0wJ+tjRp6jQAEAABhEgQLqEBUVZXYEeIA52QNzsj5m5DkKFFCHkJAQsyPAA8zJHpiT9TEjz1GggDrs2bPH7AjwAHOyB+ZkfczIcxQoAAAAg+otUPPmzdNdd92lBx988JT7PvnkE40cOVJHjhxplHCA2SIiIsyOAA8wJ3tgTtbHjDxXb4EaMmSIHn744VOWFxYWasuWLfywcU4LCwszOwI8wJzsgTlZHzPyXL0FqkuXLqfdqWzRokW6+eab5XA4GiUYYAWZmZlmR4AHmJM9MCfrY0aeC2jIN23cuFGtW7dWYmJivY9NT09Xenq6JCk1NVUFBQUqKipSYWGhJMnpdKq4uFj5+fmSpISEBFVUVCg3N1eSFB8fL+n/LnAYGxurwMBA98m+oqKiFBISwo5vPrBr1y6vzSkiIkJhYWHu/1nDwsIUGRmp3bt3q6qqSqGhoYqOjlZWVpYqKioUEhKiNm3aKDs7W8ePH1dQUJDi4+N14MABFRcXKzAwUImJiTp48KCOHDkif39/tW/f3v33TZI6dOhg+O9efn6+1q5de069J+Zkj/fEnOzxns61OeXn5ys7O/ucek9nM6eUlBSdicPlcrnOeO9/5Ofna/bs2ZozZ47Kyso0c+ZMPfroowoODtakSZP01FNPKTQ0tL6nkST3G2oMcXFx7q/7pq1stNf5I9k4dZj765ycHBOTmGPbtm3q3Lmz2TFQD+ZkD8zJ+phRbXVdG9DwUXgHDx5Ufn6+pkyZokmTJunQoUOaNm2afv3117MKCVhRZGSk2RHgAeZkD8zJ+piR5wxvwmvXrp1ee+01922ja6AAO9m9ezcHStgAc7IH5mR9zMhz9Rao559/Xlu3btXRo0c1fvx4jRw5UkOHDvVFNsB0VVVVZkeAB5iTPTAn62NGnqu3QE2ePLnO++fOneu1MIDVsGbVHpiTPTAn62NGnuNM5EAdoqOjzY4ADzAne2BO1seMPEeBAuqQlZVldgR4gDnZA3OyPmbkOQoUUIeKigqzI8ADzMkemJP1MSPPUaCAOpzuLPywHuZkD8zJ+piR5yhQQB3atGljdgR4gDnZA3OyPmbkOQoUUIeaU//D2piTPTAn62NGnqNAAXU4fvy42RHgAeZkD8zJ+piR5yhQQB2CgoLMjgAPMCd7YE7Wx4w8R4EC6lBzFW9YG3OyB+ZkfczIcxQooA4HDhwwOwI8wJzsgTlZHzPyHAUKqENxcbHZEeAB5mQPzMn6mJHnKFBAHQIDA82OAA8wJ3tgTtbHjDxHgQLqkJiYaHYEeIA52QNzsj5m5DkKFFCHgwcPmh0BHmBO9sCcrI8ZeY4CBdThyJEjZkeAB5iTPTAn62NGnqNAAXXw9/c3OwI8wJzsgTlZHzPyHAUKqEP79u3NjgAPMCd7YE7Wx4w8R4EC6lBQUGB2BHiAOdkDc7I+ZuQ5ChRQh6KiIrMjwAPMyR6Yk/UxI89RoAAAAAyiQAF16NChg9kR4AHmZA/MyfqYkecoUEAdWJ1tD8zJHpiT9TEjz1GggDoUFhaaHQEeYE72wJysjxl5jgIFAABgEAUKqIPT6TQ7AjzAnOyBOVkfM/IcBQqoQ3FxsdkR4AHmZA/MyfqYkecoUEAd8vPzzY4ADzAne2BO1seMPEeBAgAAMIgCBdQhISHB7AjwAHOyB+ZkfczIcxQooA4VFRVmR4AHmJM9MCfrY0aeo0ABdcjNzTU7AjzAnOyBOVkfM/IcBQoAAMAgChRQh/j4eLMjwAPMyR6Yk/UxI89RoAAAAAyiQAF1yM7ONjsCPMCc7IE5WR8z8lyA2QHwxxMXF2d2hHNaTk6O2REA4JzHGigAthcbG2t2BHiAOVkfM/IcBQqA7QUGBpodAR5gTtbHjDzHJjyYqm/aSrMjnBM2Th3m9edkU2vj+aNuZt23bx9/ryyOGXmONVAAAAAGUaAAAD4RFRVldgTUgxl5jk14AOrFptaz1xibWe0mJCTE7AioBzPyHGugAAA+sWfPHrMjoB7MyHMUKAAAAIPq3YQ3b948bdq0SS1bttScOXMkSUuWLNF3332ngIAARUdHa+LEiWrevHmjhwUA2FdERITZEVAPZuS5etdADRkyRA8//HCtZT169NCcOXP0zDPPqE2bNvrwww8bLSAA4NwQFhZmdgTUgxl5rt4C1aVLl1N2KuvZs6f8/f0lScnJyTp8+HDjpAMAnDMyMzPNjoB6MCPPnfVReKtWrdJFF110xvvT09OVnp4uSUpNTVVBQYGKiopUWFgoSXI6nSouLlZ+fr4kKSEhQRUVFcrNzZUkxcfHS/q/CxzGxsYqMDBQ+/btk/T7IZchISHs+OYDu3btYk42wJysLy8vz6ufexEREQoLC3P/4xcWFqbIyEjt3r1bVVVVCg0NVXR0tLKyslRRUaGQkBC1adNG2dnZOn78uIKCghQfH68DBw6ouLhYgYGBSkxM1MGDB3XkyBH5+/urffv27s9vSerQoYPhz/L8/HytXbv2nHpP59qc8vPzlZ2dfU69p7OZU0pKis7E4XK5XGe89z/y8/M1e/Zs9z5QNT744APt3r1bDz30kBwOR31PI0nuN9QYTjx7Kodde8eJh1576+zJzMn7mJP1NcaM7Gbbtm3q3Lmz2TFQB2ZUW13XBmzwUXhffPGFvvvuO917770elycAwB9XZGSk2RFQD2bkuQYVqM2bN+vjjz/WtGnT1LRpU29nAgCcg3bv3m12BNSDGXmu3n2gnn/+eW3dulVHjx7V+PHjNXLkSH344YeqrKzUrFmzJP2+PfKee+5p9LAAAPuqqqoyOwLqwYw8V2+Bmjx58inLhg4d2ihhAADnrtDQULMjoB7MyHOciRwA4BPR0dFmR0A9mJHnKFAAAJ/IysoyOwLqwYw8R4ECAPhERUWF2RFQD2bkOQoUAMAnTr6qBayHGXmOAgUA8Ik2bdqYHQH1YEaeo0ABAHyi5lIasC5m5DkKFADAJ44fP252BNSDGXmOAgUA8ImgoCCzI6AezMhzFCgAgE/Ex8ebHQH1YEaeo0ABAHziwIEDZkdAPZiR5yhQAACfKC4uNjsC6sGMPEeBAgD4RGBgoNkRUA9m5DkKFADAJxITE82OgHowI89RoAAAPnHw4EGzI6AezMhzAWYHAAA0TFxcnNkRzmk5OTlmR/C5I0eOmB3BNlgDBQAAJEn+/v5mR7ANChQAAJAktW/f3uwItsEmPAA4B/RNW2l2hHPCxqnDzI5gqoKCAkVERJgdwxZYAwUAACRJRUVFZkewDQoUAACAQRQoAAAgSerQoYPZEWyDAgUAACSxCc8IChQAAJAkFRYWmh3BNihQAAAABlGgAACAJMnpdJodwTY4DxQAAI2IS+40LrMuucMaKAAAAIMoUAAAAAaxCQ8AAB/hkjveYYVL7rAGCgAAwCAKFAAAgEEUKAAAAIMoUAAAAAZRoAAAAAyiQAEAABhEgQIAADCIAgUAAGAQBQoAAMAgChQAAIBBFCgAAACDKFAAAAAGUaAAAAAMokABAAAYRIECAAAwKKC+B8ybN0+bNm1Sy5YtNWfOHElScXGxnnvuORUUFCgyMlL333+/QkJCGj0sAACAFdS7BmrIkCF6+OGHay376KOP1L17d73wwgvq3r27Pvroo0YLCAAAYDX1FqguXbqcsnbp22+/1eDBgyVJgwcP1rfffts46QAAACyo3k14p/Pbb78pLCxMkhQWFqYjR46c8bHp6elKT0+XJKWmpqqgoEBFRUUqLCyUJDmdThUXFys/P1+SlJCQoIqKCuXm5kqS4uPjJUnZ2dmSpNjYWAUGBmrfvn2SpKioKIWEhGjPnj0NeSswYNeuXczJBpiT9eXl5Xnlcw+NiznZg7fmVPO5FxERobCwMGVmZiolJeWMr9ugAmXE8OHDNXz4cPftyMhIRUZGKjk5udbjkpKSat1OTEysdbvmB1AjLi6u1u2YmBgvpEVdkpKSmJMNMCfrq/n5nu2c0LiYkz14a04nf+5FRkbW+boNOgqvZcuWKioqkiQVFRUpNDS0IU8DAABgSw0qUH379tWXX34pSfryyy91wQUXeDUUAACAldW7Ce/555/X1q1bdfToUY0fP14jR47U9ddfr+eee06rVq1SRESEHnjgAV9kBQAAsIR6C9TkyZNPu/yxxx7zehgAAAA74EzkAAAABlGgAAAADKJAAQAAGESBAgAAMIgCBQAAYBAFCgAAwCAKFAAAgEEUKAAAAIMoUAAAAAZRoAAAAAyiQAEAABhEgQIAADCIAgUAAGAQBQoAAMAgChQAAIBBFCgAAACDKFAAAAAGUaAAAAAMokABAAAYRIECAAAwiAIFAABgEAUKAADAIAoUAACAQRQoAAAAgyhQAAAABlGgAAAADKJAAQAAGESBAgAAMIgCBQAAYBAFCgAAwCAKFAAAgEEUKAAAAIMoUAAAAAZRoAAAAAyiQAEAABhEgQIAADCIAgUAAGAQBQoAAMAgChQAAIBBFCgAAACDKFAAAAAGUaAAAAAMokABAAAYRIECAAAwKOBsvnnZsmVatWqVHA6H4uPjNXHiRDVp0sRb2QAAACypwWugDh8+rM8++0ypqamaM2eOqqurtXbtWm9mAwAAsKSz2oRXXV2t8vJyVVVVqby8XGFhYd7KBQAAYFkN3oTXunVrXXfddZowYYKaNGminj17qmfPnqc8Lj09Xenp6ZKk1NRUFRQUqKioSIWFhZIkp9Op4uJi5efnS5ISEhJUUVGh3NxcSVJ8fLwkKTs7W5IUGxurwMBA7du3T5IUFRWlkJAQ7dmzp6FvBR7atWsXc7IB5mR9eXl5XvncQ+NiTvbgrTnVfO5FREQoLCxMmZmZSklJOePrOlwul6shgYuLizVnzhzdf//9Cg4O1rPPPqv+/fvrkksuqfP7at5QY4iLi3N/3TdtZaO9zh/JxqnD3F/n5OR45TmZk/cxJ+tjRvbAnOyhMeZ0OrGxsWe8r8Gb8LZs2aKoqCiFhoYqICBA/fr1086dOxv6dAAAALbR4AIVERGhzMxMlZWVyeVyacuWLbVaNgAAwLmqwftAdejQQf3799e0adPk7++vxMREDR8+3JvZAAAALOmszgM1cuRIjRw50ltZAAAAbIEzkQMAABhEgQIAADCIAgUAAGAQBQoAAMAgChQAAIBBFCgAAACDKFAAAAAGUaAAAAAMokABAAAYRIECAAAwiAIFAABgEAUKAADAIAoUAACAQRQoAAAAgyhQAAAABlGgAAAADKJAAQAAGESBAgAAMIgCBQAAYBAFCgAAwCAKFAAAgEEUKAAAAIMoUAAAAAZRoAAAAAyiQAEAABhEgQIAADCIAgUAAGAQBQoAAMAgChQAAIBBFCgAAACDKFAAAAAGUaAAAAAMokABAAAYRIECAAAwiAIFAABgEAUKAADAIAoUAACAQRQoAAAAgyhQAAAABlGgAAAADKJAAQAAGESBAgAAMIgCBQAAYFDA2XzzsWPHtGDBAmVnZ8vhcGjChAlKTk72VjYAAABLOqsC9cYbb6hXr1568MEHVVlZqbKyMm/lAgAAsKwGb8IrKSnRtm3bNHToUElSQECAmjdv7rVgAAAAVtXgNVD5+fkKDQ3VvHnztG/fPjmdTt12220KCgqq9bj09HSlp6dLklJTU1VQUKCioiIVFhZKkpxOp4qLi5Wfny9JSkhIUEVFhXJzcyVJ8fHxkqTs7GxJUmxsrAIDA7Vv3z5JUlRUlEJCQrRnz56GvhV4aNeuXczJBpiT9eXl5Xnlcw+NiznZg7fmVPO5FxERobCwMGVmZiolJeWMr+twuVyuhgTevXu3HnnkEc2aNUsdOnTQG2+8oWbNmmn06NF1fl/NG2oMcXFx7q/7pq1stNf5I9k4dZj765ycHK88J3PyPuZkfczIHpiTPTTGnE4nNjb2jPc1eBNeeHi4wsPD1aFDB0lS//79tXfv3oY+HQAAgG00uEC1atVK4eHh7jVKW7ZsUdu2bb0WDAAAwKrO6ii8O+64Qy+88IIqKysVFRWliRMneisXAACAZZ1VgUpMTFRqaqq3sgAAANgCZyIHAAAwiAIFAABgEAUKAADAIAoUAACAQRQoAAAAgyhQAAAABlGgAAAADKJAAQAAGESBAgAAMIgCBQAAYBAFCgAAwCAKFAAAgEEUKAAAAIMoUAAAAAZRoAAAAAyiQAEAABhEgQIAADCIAgUAAGAQBQoAAMAgChQAAIBBFCgAAACDKFAAAAAGUaAAAAAMokABAAAYRIECAAAwiAIFAABgEAUKAADAIAoUAACAQRQoAAAAgyhQAAAABlGgAAAADKJAAQAAGESBAgAAMIgCBQAAYBAFCgAAwCAKFAAAgEEUKAAAAIMoUAAAAAZRoAAAAAyiQAEAABhEgQIAADCIAqtvtfwAACAASURBVAUAAGAQBQoAAMAgChQAAIBBZ12gqqurNXXqVKWmpnojDwAAgOWddYFavny54uLivJEFAADAFs6qQB06dEibNm3SsGHDvJUHAADA8gLO5pvffPNN3XLLLSotLT3jY9LT05Weni5JSk1NVUFBgYqKilRYWChJcjqdKi4uVn5+viQpISFBFRUVys3NlSTFx8dLkrKzsyVJsbGxCgwM1L59+yRJUVFRCgkJ0Z49e87mrcADu3btYk42wJysLy8vzyufe2hczMkevDWnms+9iIgIhYWFKTMzUykpKWd83QYXqO+++04tW7aU0+nUzz//fMbHDR8+XMOHD3ffjoyMVGRkpJKTk2s9LikpqdbtxMTEWrdrfgA1Tt5sGBMTYyQ+GiApKYk52QBzsr6an+/ZzgmNiznZg7fmdPLnXmRkZJ2v2+ACtWPHDm3cuFHff/+9ysvLVVpaqhdeeEH33ntvQ58SAADAFhpcoMaMGaMxY8ZIkn7++Wd9+umnlCcAAPCHwHmgAAAADDqrnchrdO3aVV27dvXGUwEAAFgea6AAAAAMokABAAAYRIECAAAwiAIFAABgEAUKAADAIAoUAACAQRQoAAAAgyhQAAAABlGgAAAADKJAAQAAGESBAgAAMIgCBQAAYBAFCgAAwCAKFAAAgEEUKAAAAIMoUAAAAAZRoAAAAAyiQAEAABhEgQIAADCIAgUAAGAQBQoAAMAgChQAAIBBFCgAAACDKFAAAAAGUaAAAAAMokABAAAYRIECAAAwiAIFAABgEAUKAADAIAoUAACAQRQoAAAAgyhQAAAABlGgAAAADKJAAQAAGESBAgAAMIgCBQAAYBAFCgAAwCAKFAAAgEEUKAAAAIMoUAAAAAZRoAAAAAyiQAEAABhEgQIAADCIAgUAAGBQQEO/sbCwUHPnztWvv/4qh8Oh4cOH6+qrr/ZmNgAAAEtqcIHy9/fXrbfeKqfTqdLSUk2fPl09evRQ27ZtvZkPAADAchq8CS8sLExOp1OS1KxZM8XFxenw4cNeCwYAAGBVDV4DdaL8/Hzt3btXSUlJp9yXnp6u9PR0SVJqaqoKCgpUVFSkwsJCSZLT6VRxcbHy8/MlSQkJCaqoqFBubq4kKT4+XpKUnZ0tSYqNjVVgYKD27dsnSYqKilJISIj27NnjjbeCOuzatYs52QBzsr68vDyvfO6hcTEne/DWnGo+9yIiIhQWFqbMzEylpKSc8XUdLpfLdTbBjx8/rhkzZuiGG25Qv3796n18zRtqDHFxce6v+6atbLTX+SPZOHWY++ucnByvPCdz8j7mZH3MyB6Ykz00xpxOJzY29oz3ndVReJWVlZozZ44GDRrkUXkCAAA4FzS4QLlcLi1YsEBxcXG69tprvZkJAADA0hq8D9SOHTv01VdfqV27dpoyZYok6aabblLv3r29Fg4AAMCKGlygOnXqpPfee8+bWQAAAGyBM5EDAAAYRIECAAAwiAIFAABgEAUKAADAIAoUAACAQRQoAAAAgyhQAAAABlGgAAAADKJAAQAAGESBAgAAMIgCBQAAYBAFCgAAwCAKFAAAgEEUKAAAAIMoUAAAAAZRoAAAAAyiQAEAABhEgQIAADCIAgUAAGAQBQoAAMAgChQAAIBBFCgAAACDKFAAAAAGUaAAAAAMokABAAAYRIECAAAwiAIFAABgEAUKAADAIAoUAACAQRQoAAAAgyhQAAAABlGgAAAADKJAAQAAGESBAgAAMIgCBQAAYBAFCgAAwCAKFAAAgEEUKAAAAIMoUAAAAAZRoAAAAAyiQAEAABhEgQIAADCIAgUAAGAQBQoAAMCggLP55s2bN+uNN95QdXW1hg0bpuuvv95buQAAACyrwWugqqur9frrr+vhhx/Wc889p4yMDO3fv9+b2QAAACypwWugdu3apZiYGEVHR0uSLrroIn377bdq27at18KdjY1Th5kdAR5gTvbAnKyPGdkDczp3NLhAHT58WOHh4e7b4eHhyszMPOVx6enpSk9PlySlpqYqNja2oS9ZL5fL1WjPDe9hTvbAnKyPGdkDczo3NXgT3un+QjgcjlOWDR8+XKmpqUpNTW3oS52zpk+fbnYE1IMZ2QNzsgfmZH3MyHMNLlDh4eE6dOiQ+/ahQ4cUFhbmlVAAAABW1uAC1b59ex04cED5+fmqrKzU2rVr1bdvX29mAwAAsKQG7wPl7++vO+64Q08++aSqq6t16aWXKj4+3pvZznnDhw83OwLqwYzsgTnZA3OyPmbkOYeLvdsAAAAM4UzkAAAABlGgAAAADKJAAQAAGHRW18KDMatWrdLQoUNrLfv73/+um2++2aREONmRI0eUnp6ugoICVVVVuZdPnDjRxFSAPZWXlyswMFAOh0N5eXnKzc1Vz5495e/vb3a0P7wNGzbUeX+/fv18lMS+KFA+tH79egUGBmrQoEGSpNdee00VFRUmp8KJ0tLS1KlTJ3Xv3l1+fqygtarc3Fx98sknKiwsrFV0Z8yYYWIqnOyxxx7TzJkzVVJSoscff1yJiYlau3at/vKXv5gd7Q/vu+++kyT99ttv2rlzp7p27SpJ+vnnn9W1a1cKlAcoUD700EMPafbs2XI4HNq8ebNCQkJ01113mR0LJygrK9Mtt9xidgzU47nnntNll12m4cOHU3QtzOVyqWnTplq9erWuvPJKXX/99ZoyZYrZsaD/W6uempqqZ5991n0i7KKiIr3++utmRrMNPnl8oLi4WMXFxSovL9f48eP1ySefqFmzZkpJSVFxcbHZ8XCCPn36aNOmTWbHQD38/Px0+eWXKykpSU6n0/0H1lJdXa1du3ZpzZo16t27t3sZrKOgoKDWVURatmypAwcOmJjIPjgPlA9MmjRJDodDLpfL/d8aDodDL730konpcKKxY8eqrKxMAQEBCggIcM9s0aJFZkfDCd577z21bNlSF154oQIDA93LQ0JCTEyFk/3000/69NNP1bFjR91www06ePCgPv30U9a8W8jrr7+uvLw8XXzxxZKktWvXKiYmRnfccYfJyayPAgXAdiZNmnTKMn4ZARpmw4YN2rZtmySpS5cuuvDCC01OZA8UKB+qrKzU559/7v6L2rVrVw0fPlwBAeyKZiXFxcXKy8tTeXm5e1mXLl1MTATYU15enpYtW3bKUa2PPvqoiakA76BA+dCCBQtUWVmpIUOGSJK++uor+fn5afz48eYGg9vKlSu1fPlyHT58WImJidq5c6eSk5M5usti+GXEHqZMmaKhQ4fK6XTW2tm/Q4cOJqaCJP31r3/VrFmzNHbsWDkcDvdydlvwHJ82PrR79249/fTT7tvdunXjiBSLWb58uZ566ik98sgjmjFjhnJycvTee++ZHQsnee2111RZWakrrrhC0u+/jLz22mv8MmIxfn5+uuqqq8yOgdOYNWuWJGnx4sUmJ7EvCpQP+fn5KS8vTzExMZKkgwcPcgi2xTRp0kRNmjSRJFVUVCguLk65ubkmp8LJ+GXEHvr27av09HRdeOGFtdYOBgcHm5gKklRSUqLg4OAzHgnOARn1o0D50C233KKZM2cqOjpaLpdLhYWFmjBhgtmxcILWrVvr2LFjuuCCC/TEE0+oefPmat26tdmxcBJ+GbGHVatWSZLef//9Wsvnz59vRhyc4IUXXtD06dM1bdo0jg5vIPaB8rGKigrl5ubK5XIpLi6u1iHYsJatW7eqpKREvXr1Yt8ai9myZYvmzZt3yi8j3bp1MzsagD8ICpQPseOrddV3QlNWZ1tLzSWQTvxlRBK/kFjMzJkz1blzZ3Xq1EkdO3ZU06ZNzY6E09iwYYO2b98uh8OhTp06cRoDD1GgfIij8KzrxJOdFhYWKiQkRC6XS8eOHVNERITmzp1rdkScYNq0aZo9e3a9y2Cu3Nxcbd++Xdu3b1dmZqaaNWumzp0769ZbbzU7Gv7jtddeO+VEmtHR0Zzs1AOs+vAhdny1rpqC9Morr6hv377uy058//332rJli5nRcIJff/1Vhw8fVnl5ufbu3eveb6O0tFRlZWUmp8PJYmNj1bx5cwUHB6tZs2b64YcflJWVZXYsnGDr1q2aM2eO+1QGgwcP1kMPPWRyKnugQPkQO75a3+7du3XPPfe4b59//vl69913TUyEE23evFlffvmlDh06VOvw66CgIN10000mJsPp3HfffWrevLkGDBigQYMGaezYsfL39zc7Fk4QGxurwsJCRUZGSpIOHTqkdu3amZzKHihQPsRReNYXGhqq999/X4MGDZLD4dDXX3+tFi1amB0L/zFkyBANGTJE69evV//+/c2Og3oMHz5c27dv1/r165WTk6MuXbqoc+fO7n+sYZ7U1FQ5HA6VlJTo/vvvV1JSkhwOhzIzM9WxY0ez49kC+0D5SHV1tTIzM+V0OjkKz8KKi4u1dOlSbdu2TQ6HQ507d1ZKSgo7kVvM8uXLNWTIEDVr1kwvv/yy9u7dqzFjxqhnz55mR8NplJWVadWqVfr000916NAh1upawNatW+u8n8tX1Y81UD7i5+enxYsX68knn1RCQoLZcXAa1dXV+vDDD3X77bebHQX1WL16ta6++mpt3rxZv/32myZMmKD58+dToCzmrbfe0o4dO3T06FElJSUpJSVFnTp1MjsWdGpBKikpUXV1tUlp7IkC5UM9e/bU+vXr1a9fv1rXHoI1+Pn5ac+ePWbHgAdqVpx///33uvTSS5WYmChWpltPYmKirr76ak5Ga2Hp6el699131aRJE/eRyJxI0zMUKB9atmyZysrK5OfnpyZNmnDRRgs677zzNHv2bA0YMKDWOWv69etnYiqczOl06oknnlB+fr7GjBmj0tJSfimxoIEDB2rTpk367LPPJP2+1uP88883ORVO9Mknn2jOnDkKDQ01O4rtUKB8iIs2Wl9xcbFatGihn376qdZyCpS1jB8/XllZWYqOjlbTpk119OhRTZw40exYOMk777yj7du3a+DAgZJ+/8d6x44dGj16tMnJUKPm/yEYx07kPsYZXwHvOHz4sAoKClRVVeVexo6v1vLQQw8pLS3NfbqWqqoqTZs2Tc8884zJyVBj7969mjdvnjp06FDrqhh33HGHiansgTVQPnTyGV///e9/68cff+SMrxZy6NAhLVy4UDt27JDD4VDHjh11++23Kzw83OxoOMFbb72ldevWqW3btu5Ndw6HgwJlQSUlJe6jWEtLS01Og5O98sor6tatm9q1a8dmcIMoUD7EGV+tb968eRo4cKAeeOABSdLXX3+tefPm6a9//avJyXCib7/9Vs8//zynAbG4ESNGaNq0aerevbtcLpe2bt2qkSNHmh0LJ/D399e4cePMjmFLFCgf4oyv1nfkyBFdeuml7ttDhgzRv/71LxMT4XSio6NVVVVFgbKowsJCRURE6JJLLlG3bt2UmZkpl8ulUaNGcUSexXTt2lXp6enq06dPrf+fOPdd/ShQPsAZX+0jNDRUX331lXun1zVr1nAmcgtq0qSJpkyZou7du7PfhgU9/fTT7gs7t27dmoMwLGzNmjWSpA8//NC9jNMYeIYC5QMjRowwOwI8NGHCBL3++utatGiRHA6HkpOTudyOBfXt21d9+/Y1OwbOgGOT7KPmQuowjqPwfOitt97SLbfcUu8yALCzu+66SxdddNEZ72dNofk+/vhj/elPf5IkrVu3TgMGDHDf9/bbb2vMmDFmRbMN1kD50JYtW05ZtnnzZgqUBSxcuPCM9wUGBio6OlqDBg1Ss2bNfJgKZ7J9+3YtXbpUhYWFqqqq4uzJFtOkSRM5nU6zY6AOa9eudReojz76qFaB+uGHHyhQHqBA+cDnn3+uFStW6ODBg7WOuistLWUfKIuo68O+urpa2dnZeuaZZzgazyIWLFigcePGyel0us8xBOto0aKFhgwZYnYM1OHEjU8nb4hiw5RnKFA+MHDgQPXq1Utvv/22br75ZvfyZs2acaSDRXjyYf/UU081fhB4JDg4mEuCWNiJO/bDmk4859PJ53/ifFCeYR8oH8rLy1N4eLgCAwP1888/a9++fRo8eLCaN29udjTAFmou9rxu3TpVV1erX79+tf6xZrMR4JlRo0YpKChILpdL5eXl7su5uFwuVVRU6B//+IfJCa2PAuVDU6ZMUWpqqgoKCvTkk0+qT58+OnDggP7nf/7H7GiALcycObPO+2fMmOGjJAD+6FjP6kN+fn7y9/fXhg0bdPXVV+uqq67S1KlTzY4F2AYFCYBVUKB8yN/fX2vWrNFXX32ladOmSVKtC6HCPHUdhSdx2LXVlJSUaOnSpdq2bZuk3y8inJKSouDgYJOT4USLFy/WpZdeqvj4eLOjAF7HJjwf2r9/vz7//HMlJydr4MCBys/P19q1a3X99debHe0P74svvqjzfo4ospZnnnlG7dq10+DBgyVJX331lfbt28e1JS1m5cqV+uKLL1RVVaUhQ4Zo4MCBlFycMyhQPlZeXq7CwkLFxsaaHQV1OH78uIKCgsyOgTOYMmWKnn766XqXwRpyc3O1evVqZWRkqGPHjho2bJi6detmdizgrLAJz4c2btyoJUuWqLKyUnPnzlVWVpbeffdd9+Y8mG/nzp2aP3++jh8/rvnz5ysrK0vp6em66667zI6GEzRp0kTbt29Xp06dJP1+Ys0mTZqYnAqnU11drZycHOXk5KhFixZKSEjQsmXLlJ6ersmTJ5sd7w9r7Nix7tMV1KxHcTgc7pPSLlq0yMx4tkCB8qGlS5fqqaee0uOPPy5JSkxMVH5+vrmhUMubb76pRx55RGlpaZJ+n1HNfjawjrvvvltz585VSUmJXC6XQkJCNHHiRLNj4SSLFi3Sxo0b1b17d91www1KSkpy33ffffeZmAyLFy82O4LtUaB8yN/f/5Tt/5ywzHoiIiJq3eZM19aTmJiop59+WiUlJZLEfjUWFR8fr9GjR7vPMXQiTkxrHdu3b9eBAwd06aWX6siRIzp+/LiioqLMjmV5FCgfio+P15o1a1RdXa0DBw7os88+U3JystmxcILw8HDt2LFDDodDlZWVWr58ueLi4syOhf9YtmzZGe8LCAhQTEyMevToQem1iKFDh+rw4cPKysqqdcRxly5dKL0WsXTpUu3evdtdoCorK/Xiiy9q1qxZZkezPAqUD91xxx364IMPFBgYqBdeeEE9e/bUDTfcYHYsnODuu+/Wm2++qcOHD2v8+PHq0aOH7rzzTrNj4T9KS0vPeF9VVZV++uknrVq1Sg888IAPU+FM/v73v2vt2rVq27ate227w+FQly5dTE6GGt98843S0tLc++K2bt26zv/P8H8oUD6QlZWlhIQENW3aVDfddJNuuukmsyPhDEJDQ3XvvfeaHQNncOONN9b7GE5lYB3ffPONnn/+eQUGBpodBWcQEBAgh8PhLrjHjx83OZF9UKB8YMGCBcrPz9d5552njh07qmPHjurQoQOrsC2ovLxcq1at0v79+1VeXu5ezg7K9vHMM8+YHQH/ER0draqqKgqUhQ0YMECvvPKKjh07pvT0dK1evVrDhg0zO5YtcB4oHykrK9OuXbu0Y8cO7dy5U7t371arVq3UsWNHDpG3kGeffVaxsbHKyMjQf//3f2vNmjWKi4vT7bffbnY0wHaeeeYZ7du3T927d6910WfO7G8tP/74o3744Qe5XC716tVLPXr0MDuSLbAGykeaNm2qrl27qn379urQoYN27NihL7/8Ups3bzY7Gk6Ql5enBx54QBs3bnSfOfnJJ580OxZgS3379lXfvn3NjoF6tGvXThUVFZKkhIQEk9PYBwXKB9asWaMdO3YoKytLgYGB7hI1a9YstWrVyux4OIG/v78kqXnz5vrll1/UqlUrFRQUmJwKNeo6Ck+Srr32Wh8lgSeGDBmiyspK5ebmSpJiY2NrrYmC+dauXau33nrLvWP/woULdeutt6p///4mJ7M+/ib7wMsvv6y4uDhddtll6ty5M5dxsbDhw4eruLhYo0aNUlpamo4fP66RI0eaHQv/wdFB9vLzzz9r7ty5ioyMlCQVFhZq0qRJHIVnIR9++KGeeuoptWzZUpJ05MgRzZo1iwLlAQqUDyxatEhZWVnauXOnli5dqtzcXIWFhSk5OVnJyclcE8pCanae7NKli1566SWT0+BknhyFB+tYvHixHn30Ufcvjbm5ufrb3/6m2bNnm5wMNaqrq93lSZJCQkJUXV1tYiL7oED5gJ+fn5xOp5xOp6688kr9+uuvWr9+vf71r3/p3Xff1bvvvmt2RPxHRUWFNmzYoPz8/FofIikpKSamQo2PP/5Yf/rTn7Rw4cLT3s/OydZSVVVVa417bGxsrRNqwny9evXSk08+qYsvvliSlJGRofPPP9/kVPZAgfKBffv2uY++27FjhyorK5WcnKyrrrpKHTt2NDseTpCWlqbg4GA5nU4OvbagmrPCO51Ok5PAE06nU/Pnz9cll1wiSfr666+ZncXceuut2rBhg3bs2CGXy6XLLrtMF154odmxbIHTGPjAtGnT1LFjRyUnJ6tjx47u/QFgPQ8++KDmzJljdgx46Pjx4woKCjI7Bs6goqJCK1as0Pbt2+VyudS5c2ddccUV/HJiAWPHjnWfPPPkGhAYGKiYmBiNHj1a3bt3NyOeLVCggBO8/PLLuuqqq9SuXTuzo6AOO3fu1Pz583X8+HHNnz9fWVlZSk9P55xqgBdUV1frl19+0YsvvsgvlHVgEx6g39c8ORwOVVVV6YsvvlBUVJQCAwPlcrnkcDg4u7XFvPnmm3rkkUeUlpYmSUpMTNS2bdtMToWTbd++XUuXLlVhYWGtfZ84QMPa/Pz8lJiYqCuvvNLsKJZGgQIkTZ8+3ewIMCgiIqLWbT8/P5OS4EwWLFigcePGyel0Mh8buuyyy8yOYGkUKEBy75e2c+dOxcfHq1mzZpJ+P+/Q/v372W/NYsLDw7Vjxw45HA5VVlZq+fLl7h3MYR3BwcEc0YVzFvtA+UBqaqp7Z73TmTZtmg/ToC5Tp07V7Nmz3fOqrq7W//zP/3DeGos5cuSI3nzzTW3ZskUul0s9evTQ7bffrhYtWpgdDZL27NkjSVq3bp2qq6vVr1+/Wmcg50g8nAtYA+UDI0aMMDsCPFSzz1MNPz8/zltjQaGhobr33nvNjoEzWLJkSa3bNYWqxowZM3wZB2gUFCgf4LIF9hEdHa3ly5fr8ssvlyR9/vnnioqKMjkVavzzn/+s835OeGoNNQXp4MGDio6OrnXfwYMHzYgEeB2b8Hyg5givk3GEl/X89ttveuONN/TTTz/J4XCoW7duuu2222pd6gDm+fTTT09ZVlZWplWrVuno0aOnrPmAuaZNm3bK5u/TLQPsiDVQPsARXvbRsmVLTZ482ewYOIPrrrvO/XVpaamWL1+u1atX66KLLqp1H8yVk5Oj7OxslZSUaMOGDe7lpaWlqqioMDEZ4D0UKB848QiugoICHThwQD169FB5eTn711gE11izj+LiYi1btkxff/21Bg8erNmzZyskJMTsWDhBbm6uNm3apGPHjum7775zLw8KCtKf//xnE5MB3kOB8qH09HStXLlSxcXFevHFF3Xo0CG9+uqreuyxx8yO9ofHNdbsYcmSJfrmm280bNgwzZkzh8u4WNQFF1ygCy64QDt37lRycrLZcYBGQYHyoRUrVuipp57Sww8/LElq06aNfvvtN5NTQZL69u0rSRoyZIi5QVCnZcuWKSAgQB988IE+/PBD9/Ka/QkXLVpkYjqcLCYmRh988IEKCgpqrW2fOHGiiakA76BA+VBgYGCtc6FUVVXVeX4o+E59O7Vyri5rePfdd82OAAPS0tLUqVMnde/enTOR45xDgfKhLl266IMPPlB5ebl+/PFHrVixQn369DE7FvT7GcgjIiJ08cUXKykpyew4wDmhrKxMt9xyi9kxgEbBaQx8qLq6WqtWrdKPP/4ol8ulnj17atiwYayFsoDq6mr9+OOPWrNmjX755Rf17t1bF198seLj482OBtjWO++8o+TkZPXu3dvsKIDXUaBMUlxcrEOHDikhIcHsKDhJRUWFMjIytGTJEqWkpOiqq64yOxJgS2PHjlVZWZkCAgIUEBDAvmo4p1CgfOjxxx/X1KlTVV1drSlTpig0NFRdunTRuHHjzI4G/V6cNm3apIyMDBUUFKhPnz4aOnSoWrdubXY0AIDFsA+UD5WUlCg4OFgrV67UpZdeqpEjR+qhhx4yOxYkvfTSS8rOztb555+vlJQUtWvXzuxIwDklLy9Pa9euVUZGhubMmWN2HOCsUaB8qKqqSkVFRVq3bp1Gjx5tdhyc4Ouvv1bTpk114MABffbZZ+7lbHIAGq6oqEgZGRnKyMjQL7/8ouuvv1733Xef2bEAr6BA+VBKSoqefPJJderUSUlJSTp48KBiYmLMjgVxeDzgTenp6crIyNDhw4c1YMAAjR8/XmlpabrxxhvNjgZ4DftAAQC86qabblJycrLGjh2r9u3bS5L+8pe/6KWXXjI5GeA9rIHyobfeeks33HCDmjRpov/93//Vvn37NG7cOF1yySVmRwMAr3n55Ze1fv16LV68WL/++qsGDBjAdT9xzuHUsD70ww8/KDg4WJs2bVLr1q31t7/9TZ9++qnZsQDAq0JDQ3X55Zdr5syZeuyxxxQcHKzQ0FDdf//9evvtt82OB3gFa6B8qOY3sE2bNmngwIFcQR7AOS88PFwjRozQiBEjlJubq4yMDLMjAV7BGigf6tOnjyZPnqw9e/aoW7duOnLkiAIDA82OBQCN7uWXX1ZsbCw7kuOcwU7kPlZcXKzg4GD5+fmprKxMpaWlatWqldmxAKBRTZs2rd6LdgN2wiY8H/ryyy9Pu3zw4ME+TgIAvhUaGmp2BMCrWAPlQwsXLnR/XV5erp9++knnnXeeHnzwQRNTAQAAo1gD5UN33HFHrdsl//vZwwAAAuBJREFUJSV68cUXTUoDAI0jNTVVDofjjPdPmzbNh2mAxkGBMlGTJk2Ul5dndgwA8KoRI0aYHQFodBQoHzrxtzKXy6X9+/erf//+JqcCAO/q0qWLqqur9dJLL+nee+81Ow7QKChQPnTib2V+fn6KjIxUeHi4iYkAoHH4+fnp6NGjqqysVEAA/9Tg3MNO5Caqrq5WRkaGBg0aZHYUAPC6V155RXv37lWfPn0UFBTkXn7ttdeamArwDn4t8IGSkhKtWLFChw8fVt++fdWjRw+tWLFCn3zyiRITEylQAM5JYWFhCgsLk8vlUmlpqdlxAK9iDZQPpKWlqXnz5kpOTtaWLVt07NgxVVZW6vbbb1diYqLZ8QAAgEGsgfKBgwcPas6cOZKkYcOG6c4779S8efPUrFkzk5MBQOM5cuSIPv74Y+3fv///t3eHqqpEYRTH1wxiskzQYhQEJ/sEvsNU9zMYxKiIzWa0iNFkEaO+gFosFsEmDGoRDGOYEy73cOFyw3D3ccPw/8Uvrbj45mOPkiT5nvf7fYepADv4F94H/HlA6fu+KpUK5QlA7k0mE1WrVcVxrCiKVC6XVavVXMcCrGAD9QGXy0XGGEm/ni9IkkTGGKVpKs/zNJ/PHScEAPuez6darZbW67XCMFQYhmyfkBsUqA9YLBauIwDAx/3evgdBoMPhoCAI9Hg8HKcC7OCIHADwI/b7vRqNhm63m2azmV6vl6IoUrPZdB0N+G8UKACAVff7/Z+PBO92OwoUcoEjcgCAVcPhUHEc/zXfbrfcfCI3KFAAAKuMMRqNRrper9+z5XKp1WqlwWDgLhhgEZ/wAADWHY9HTadTdbtdbTYbnc9n9Xo9lUol19EAKyhQAIAfcTqdNB6PVa/X1el0VCwWXUcCrKFAAQCsarfb8jxPaZrq/X6rUCjI933evkOuUKAAAAAy4ogcAAAgIwoUAABARhQoAACAjChQAAAAGVGgAAAAMvoCJ7PfFkUTxWQAAAAASUVORK5CYII=\n",
          "text/plain": "<Figure size 720x540 with 1 Axes>"
         },
         "metadata": {},
         "output_type": "display_data"
        }
       ]
      }
     },
     "2bcc7202e09f4a3a863462e5d46f7fc3": {
      "model_module": "@jupyter-widgets/output",
      "model_module_version": "1.0.0",
      "model_name": "OutputModel",
      "state": {
       "layout": "IPY_MODEL_a07938f377854f3796e630522276b1a9",
       "outputs": [
        {
         "data": {
          "image/png": "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\n",
          "text/plain": "<Figure size 720x540 with 1 Axes>"
         },
         "metadata": {},
         "output_type": "display_data"
        }
       ]
      }
     },
     "2cbc90ec910e4812957ae18e513ad2d1": {
      "model_module": "@jupyter-widgets/base",
      "model_module_version": "1.2.0",
      "model_name": "LayoutModel",
      "state": {}
     },
     "2cddbdd7b40043ec9e72efaa3efee735": {
      "model_module": "@jupyter-widgets/controls",
      "model_module_version": "1.5.0",
      "model_name": "DropdownModel",
      "state": {
       "_options_labels": [
        "ppg",
        "g_played",
        "fg_per_game",
        "fg%"
       ],
       "description": "data",
       "index": 2,
       "layout": "IPY_MODEL_2cbc90ec910e4812957ae18e513ad2d1",
       "style": "IPY_MODEL_ea7ada62a07e4de59bfeff433b3b0095"
      }
     },
     "2e841eadbd78400fb03e072ec439498b": {
      "model_module": "@jupyter-widgets/controls",
      "model_module_version": "1.5.0",
      "model_name": "DropdownModel",
      "state": {
       "_options_labels": [
        "NBA__3ptapg",
        "NBA__3ptpct",
        "NBA__3ptpg",
        "NBA_efgpct",
        "NBA_fg%",
        "NBA_fg_per_game",
        "NBA_fga_per_game",
        "NBA_ft%",
        "NBA_ft_per_g",
        "NBA_fta_p_g",
        "NBA_g_played",
        "NBA_ppg",
        "NCAA__3ptapg",
        "NCAA__3ptpct",
        "NCAA__3ptpg",
        "NCAA_efgpct",
        "NCAA_fgapg",
        "NCAA_fg%",
        "NCAA_fg_per_game",
        "NCAA_ft",
        "NCAA_ftapg",
        "NCAA_ftpg",
        "NCAA_g_played",
        "NCAA_ppg",
        "NCAA_ppg.1",
        "years_active"
       ],
       "description": "x",
       "index": 0,
       "layout": "IPY_MODEL_e45e98b3ff194e3ba01289a3693ab2ac",
       "style": "IPY_MODEL_bdf7461a34f847c8b8879cbe96ad2806"
      }
     },
     "3617dbf77e2b4ee0859c8db9174d22fb": {
      "model_module": "@jupyter-widgets/controls",
      "model_module_version": "1.5.0",
      "model_name": "DescriptionStyleModel",
      "state": {
       "description_width": ""
      }
     },
     "371b00148388484c9e7bf7a6e527b11c": {
      "model_module": "@jupyter-widgets/base",
      "model_module_version": "1.2.0",
      "model_name": "LayoutModel",
      "state": {}
     },
     "3c53b1fe993b491b9ddd76887a0aa7d5": {
      "model_module": "@jupyter-widgets/output",
      "model_module_version": "1.0.0",
      "model_name": "OutputModel",
      "state": {
       "layout": "IPY_MODEL_ab482447bddd4edebb8479b7c9868c28",
       "outputs": [
        {
         "data": {
          "image/png": "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\n",
          "text/plain": "<Figure size 720x540 with 1 Axes>"
         },
         "metadata": {},
         "output_type": "display_data"
        }
       ]
      }
     },
     "3cabc9bf89764161a3efaba1bbe0e2d3": {
      "model_module": "@jupyter-widgets/controls",
      "model_module_version": "1.5.0",
      "model_name": "CheckboxModel",
      "state": {
       "description": "diff",
       "disabled": false,
       "layout": "IPY_MODEL_514edd5709c64e70851ba3ee9fc840f6",
       "style": "IPY_MODEL_8667abc78d6546eab5332a99e5441501",
       "value": false
      }
     },
     "3ff1cbea23d64d30aa27b5bfc9e643a5": {
      "model_module": "@jupyter-widgets/controls",
      "model_module_version": "1.5.0",
      "model_name": "DropdownModel",
      "state": {
       "_options_labels": [
        "5",
        "8",
        "10",
        "12",
        "15"
       ],
       "description": "size",
       "index": 0,
       "layout": "IPY_MODEL_9e72e99ad1a14115a9fdff76de3ef850",
       "style": "IPY_MODEL_6848fecc09ed44ccb08771e28c992039"
      }
     },
     "41a0b023ce9f4a8381f8322d088d4e2b": {
      "model_module": "@jupyter-widgets/controls",
      "model_module_version": "1.5.0",
      "model_name": "DescriptionStyleModel",
      "state": {
       "description_width": ""
      }
     },
     "42eea2c0a3914c3ead52e3235d89f314": {
      "model_module": "@jupyter-widgets/base",
      "model_module_version": "1.2.0",
      "model_name": "LayoutModel",
      "state": {}
     },
     "4386c432529d44e8aca4e661ff097fc2": {
      "model_module": "@jupyter-widgets/controls",
      "model_module_version": "1.5.0",
      "model_name": "VBoxModel",
      "state": {
       "_dom_classes": [
        "widget-interact"
       ],
       "children": [
        "IPY_MODEL_ff9d6bd04d6e44bf95a455052aae8ffa",
        "IPY_MODEL_91e95b5abb84468796c5a54193931df0",
        "IPY_MODEL_3cabc9bf89764161a3efaba1bbe0e2d3",
        "IPY_MODEL_d53efc1912624e728de32f0415b2bebd"
       ],
       "layout": "IPY_MODEL_e2eafecf2b6c4837accd626d6ffac992"
      }
     },
     "43e9dd76f90a47c58679b85dc88bde0c": {
      "model_module": "@jupyter-widgets/controls",
      "model_module_version": "1.5.0",
      "model_name": "DropdownModel",
      "state": {
       "_options_labels": [
        "ppg",
        "g_played",
        "fg_per_game",
        "fg%"
       ],
       "description": "data",
       "index": 0,
       "layout": "IPY_MODEL_7949c5beb00a43238ca02f61ded0f1bb",
       "style": "IPY_MODEL_41a0b023ce9f4a8381f8322d088d4e2b"
      }
     },
     "4921444c5a3a40d8a5b91930e834033f": {
      "model_module": "@jupyter-widgets/base",
      "model_module_version": "1.2.0",
      "model_name": "LayoutModel",
      "state": {}
     },
     "4e107a1418fa4e07ae12e46e96cc2a7a": {
      "model_module": "@jupyter-widgets/base",
      "model_module_version": "1.2.0",
      "model_name": "LayoutModel",
      "state": {}
     },
     "514edd5709c64e70851ba3ee9fc840f6": {
      "model_module": "@jupyter-widgets/base",
      "model_module_version": "1.2.0",
      "model_name": "LayoutModel",
      "state": {}
     },
     "548efa2a0bc64d17bc5242fb09aef366": {
      "model_module": "@jupyter-widgets/controls",
      "model_module_version": "1.5.0",
      "model_name": "DropdownModel",
      "state": {
       "_options_labels": [
        "5",
        "8",
        "10",
        "12",
        "15",
        "20",
        "25"
       ],
       "description": "size",
       "index": 0,
       "layout": "IPY_MODEL_cc31c07e142b4c91b3418ef2cff2ee07",
       "style": "IPY_MODEL_d78a6b6b3e8b47dbb5b5a8fba38d19a3"
      }
     },
     "58d0e122a2474bf2a9ab0831056f2ff0": {
      "model_module": "@jupyter-widgets/base",
      "model_module_version": "1.2.0",
      "model_name": "LayoutModel",
      "state": {}
     },
     "5b89229e78ee468c8d0f0cf971f7c32b": {
      "model_module": "@jupyter-widgets/controls",
      "model_module_version": "1.5.0",
      "model_name": "DropdownModel",
      "state": {
       "_options_labels": [
        "1948",
        "1949",
        "1950",
        "1951",
        "1952",
        "1953",
        "1954",
        "1955",
        "1956",
        "1957",
        "1958",
        "1959",
        "1960",
        "1961",
        "1962",
        "1963",
        "1964",
        "1965",
        "1966",
        "1967",
        "1968",
        "1969",
        "1970",
        "1971",
        "1972",
        "1973",
        "1974",
        "1975",
        "1976",
        "1977",
        "1978",
        "1979",
        "1980",
        "1981",
        "1982",
        "1983",
        "1984",
        "1985",
        "1986",
        "1987",
        "1988",
        "1989",
        "1990",
        "1991",
        "1992",
        "1993",
        "1994",
        "1995",
        "1996",
        "1997",
        "1998",
        "1999",
        "2000",
        "2001",
        "2002",
        "2003",
        "2004",
        "2005",
        "2006",
        "2007",
        "2008",
        "2009",
        "2010",
        "2011",
        "2012",
        "2013",
        "2014",
        "2015",
        "2016",
        "2017"
       ],
       "description": "year",
       "index": 13,
       "layout": "IPY_MODEL_19be567934cc4b2b8b6e62966f3734d9",
       "style": "IPY_MODEL_163cd856dc86471faa64baa22a90ac97"
      }
     },
     "5e4384193bcf4ff4b58b72fc817f51c4": {
      "model_module": "@jupyter-widgets/controls",
      "model_module_version": "1.5.0",
      "model_name": "DescriptionStyleModel",
      "state": {
       "description_width": ""
      }
     },
     "6848fecc09ed44ccb08771e28c992039": {
      "model_module": "@jupyter-widgets/controls",
      "model_module_version": "1.5.0",
      "model_name": "DescriptionStyleModel",
      "state": {
       "description_width": ""
      }
     },
     "6ea34af7e6a24e14997a796bde332b7c": {
      "model_module": "@jupyter-widgets/output",
      "model_module_version": "1.0.0",
      "model_name": "OutputModel",
      "state": {
       "layout": "IPY_MODEL_2044002334474a1aa49a3cba8dfa6045",
       "outputs": [
        {
         "data": {
          "image/png": "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\n",
          "text/plain": "<Figure size 720x540 with 1 Axes>"
         },
         "metadata": {},
         "output_type": "display_data"
        }
       ]
      }
     },
     "6fc9389a2b914b2481ed947c4a03dd71": {
      "model_module": "@jupyter-widgets/controls",
      "model_module_version": "1.5.0",
      "model_name": "DropdownModel",
      "state": {
       "_options_labels": [
        "5",
        "8",
        "10",
        "12",
        "15"
       ],
       "description": "size",
       "index": 0,
       "layout": "IPY_MODEL_e8d3c2813f2042db9a1ca6e61ceafd79",
       "style": "IPY_MODEL_713a8798f6694c3a9331f03785ca8b2a"
      }
     },
     "713a8798f6694c3a9331f03785ca8b2a": {
      "model_module": "@jupyter-widgets/controls",
      "model_module_version": "1.5.0",
      "model_name": "DescriptionStyleModel",
      "state": {
       "description_width": ""
      }
     },
     "785f5f5846dd436e9db72b7753ca2773": {
      "model_module": "@jupyter-widgets/controls",
      "model_module_version": "1.5.0",
      "model_name": "DropdownModel",
      "state": {
       "_options_labels": [
        "1950",
        "1951",
        "1952",
        "1953",
        "1954",
        "1955",
        "1956",
        "1957",
        "1958",
        "1959",
        "1960",
        "1961",
        "1962",
        "1963",
        "1964",
        "1965",
        "1966",
        "1967",
        "1968",
        "1969",
        "1970",
        "1971",
        "1972",
        "1973",
        "1974",
        "1975",
        "1976",
        "1977",
        "1978",
        "1979",
        "1980",
        "1981",
        "1982",
        "1983",
        "1984",
        "1985",
        "1986",
        "1987",
        "1988",
        "1989",
        "1990",
        "1991",
        "1992",
        "1993",
        "1994",
        "1995",
        "1996",
        "1997",
        "1998",
        "1999",
        "2000",
        "2001",
        "2002",
        "2003",
        "2004",
        "2005",
        "2006",
        "2007",
        "2008",
        "2009",
        "2010",
        "2011",
        "2012",
        "2013",
        "2014",
        "2015",
        "2016",
        "2017"
       ],
       "description": "year",
       "index": 0,
       "layout": "IPY_MODEL_112b4f2494b74e06ba4d9a341b8a9ed5",
       "style": "IPY_MODEL_5e4384193bcf4ff4b58b72fc817f51c4"
      }
     },
     "7949c5beb00a43238ca02f61ded0f1bb": {
      "model_module": "@jupyter-widgets/base",
      "model_module_version": "1.2.0",
      "model_name": "LayoutModel",
      "state": {}
     },
     "7e5fb29a00294f429e15cb210277a3ba": {
      "model_module": "@jupyter-widgets/base",
      "model_module_version": "1.2.0",
      "model_name": "LayoutModel",
      "state": {}
     },
     "800dc5ebad05471da8dfb635f54fb6ea": {
      "model_module": "@jupyter-widgets/output",
      "model_module_version": "1.0.0",
      "model_name": "OutputModel",
      "state": {
       "layout": "IPY_MODEL_0c8b437509a84bcf981c292d9770e88d",
       "outputs": [
        {
         "data": {
          "image/png": "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\n",
          "text/plain": "<Figure size 720x540 with 1 Axes>"
         },
         "metadata": {},
         "output_type": "display_data"
        }
       ]
      }
     },
     "8667abc78d6546eab5332a99e5441501": {
      "model_module": "@jupyter-widgets/controls",
      "model_module_version": "1.5.0",
      "model_name": "DescriptionStyleModel",
      "state": {
       "description_width": ""
      }
     },
     "91e95b5abb84468796c5a54193931df0": {
      "model_module": "@jupyter-widgets/controls",
      "model_module_version": "1.5.0",
      "model_name": "DropdownModel",
      "state": {
       "_options_labels": [
        "ppg",
        "g_played",
        "fg_per_game",
        "fg%"
       ],
       "description": "stat",
       "index": 0,
       "layout": "IPY_MODEL_98806fb665a74561a52bc3a7264c88d6",
       "style": "IPY_MODEL_209d973978984041841e7bb38d87f292"
      }
     },
     "98806fb665a74561a52bc3a7264c88d6": {
      "model_module": "@jupyter-widgets/base",
      "model_module_version": "1.2.0",
      "model_name": "LayoutModel",
      "state": {}
     },
     "99204da77ebf4417ab318abad22edea3": {
      "model_module": "@jupyter-widgets/controls",
      "model_module_version": "1.5.0",
      "model_name": "VBoxModel",
      "state": {
       "_dom_classes": [
        "widget-interact"
       ],
       "children": [
        "IPY_MODEL_785f5f5846dd436e9db72b7753ca2773",
        "IPY_MODEL_a90d886f3d4f410fba43e9bf983cfce2",
        "IPY_MODEL_2bcc7202e09f4a3a863462e5d46f7fc3"
       ],
       "layout": "IPY_MODEL_371b00148388484c9e7bf7a6e527b11c"
      }
     },
     "9e72e99ad1a14115a9fdff76de3ef850": {
      "model_module": "@jupyter-widgets/base",
      "model_module_version": "1.2.0",
      "model_name": "LayoutModel",
      "state": {}
     },
     "a07938f377854f3796e630522276b1a9": {
      "model_module": "@jupyter-widgets/base",
      "model_module_version": "1.2.0",
      "model_name": "LayoutModel",
      "state": {}
     },
     "a7c81f3f1eb943ed86e64e4e65c20f4c": {
      "model_module": "@jupyter-widgets/controls",
      "model_module_version": "1.5.0",
      "model_name": "VBoxModel",
      "state": {
       "_dom_classes": [
        "widget-interact"
       ],
       "children": [
        "IPY_MODEL_5b89229e78ee468c8d0f0cf971f7c32b",
        "IPY_MODEL_2cddbdd7b40043ec9e72efaa3efee735",
        "IPY_MODEL_548efa2a0bc64d17bc5242fb09aef366",
        "IPY_MODEL_bcd58848ff0f41658973f2f36cfa7f50",
        "IPY_MODEL_094327040955422d8674156185fd2d96"
       ],
       "layout": "IPY_MODEL_dcfac3e337eb46699fab36cdd3f0a3f6"
      }
     },
     "a90d886f3d4f410fba43e9bf983cfce2": {
      "model_module": "@jupyter-widgets/controls",
      "model_module_version": "1.5.0",
      "model_name": "DropdownModel",
      "state": {
       "_options_labels": [
        "5",
        "8",
        "10",
        "12",
        "15",
        "20",
        "25"
       ],
       "description": "size",
       "index": 0,
       "layout": "IPY_MODEL_7e5fb29a00294f429e15cb210277a3ba",
       "style": "IPY_MODEL_167a3dada682407e82e77be942b4e533"
      }
     },
     "ab482447bddd4edebb8479b7c9868c28": {
      "model_module": "@jupyter-widgets/base",
      "model_module_version": "1.2.0",
      "model_name": "LayoutModel",
      "state": {}
     },
     "adf1c62bafc540bbb8a56cf4afc39ed6": {
      "model_module": "@jupyter-widgets/output",
      "model_module_version": "1.0.0",
      "model_name": "OutputModel",
      "state": {
       "layout": "IPY_MODEL_4921444c5a3a40d8a5b91930e834033f",
       "outputs": [
        {
         "data": {
          "image/png": "iVBORw0KGgoAAAANSUhEUgAAAX0AAAEJCAYAAAB4yveGAAAABHNCSVQICAgIfAhkiAAAAAlwSFlzAAALEgAACxIB0t1+/AAAADh0RVh0U29mdHdhcmUAbWF0cGxvdGxpYiB2ZXJzaW9uMy4xLjEsIGh0dHA6Ly9tYXRwbG90bGliLm9yZy8QZhcZAAAXf0lEQVR4nO3df5BlZX3n8ffHGUAhEtFpdZxBB8zoFrDZQWYRtUQ2RAViCRo14Kpo3B0xkMK4W4m4ZgfNYrJGdNdaFxdhAlQEgiIlSY0/wERJLBF6YOSnyIAozYwznWUDEszo4Hf/uKf12tye7r63p2/T5/2qOtX3Pvc553y7q+dzn37Oc8+kqpAktcOThl2AJGn+GPqS1CKGviS1iKEvSS1i6EtSixj6ktQihr60ByT5cJLtSSrJ24ddjzTB0NdQJHlGko8kuSvJvyTZkeS6JG9LsnQI9Vyb5KI5OtaLgbOAdcBy4K+m6Pe8JBcnuT/JziQ/bOp4ZVefLUnO7qOGDyS5r7/vQIvZvP/jkpKsBL4B7AL+K3Az8FPgpcB/Bm4BNg+twMGtBn5WVV+YqkOSvYBrgfuBNwM/AJ4FHAM8Yx5qVFtVlZvbvG7AXwM/BH61x2t7Aft1Pf4z4AHgJ8AdwJsn9S/gLZPargUu6np+H/Ah4H8CDwLbgY8CS5rXL2qO070ds5v6T21q2QmMAf8NWDrVsaY4xprm9cN2c56v9ahrFRDg08A9wI+Be4EPA/s0+729x35nN6+dSOdN9lHgn4AbgMOH/TvhNn+bI33NqyRPB04A1lfVQ5Nfr6qf0hn1QyfIfhc4Dfg28AbgL5Nsr6qvzvLUvw/8d+DFwIuAzwC3A38BnAkcDGxrHkPnzaFX/b8FbAA+AFwJHA58ik6w/nGz/83AucDK3dSzA3gMeEOS71bVT3r0eT2wqTnPR5u2cTqhv53OXwjbgV8H/g+dn9t6OtNJ/wr498C/bfZ7JMmzgc82tX8WeHJT/67d1KnFZtjvOm7t2oAj6QTk66fpty+dkfTvTWq/CvjbruczHelfPanPl4DLptpnN3X9PXDFpLYz6Yy4926evx3YNYNjnQY80uz7DTpvSmsn9dlCM0qf5lh/ANzd9fwDwH2T+hze/LxWDfv3wG14mxdyNd/SfJ3uTn+/BuwNXDep/evAoX2cd/I1ggfozKHP1qFT1PRk4PmzOVBVfQp4NvDbwDXAK4AbkvzRdPsm+Y9JvtWsEHoE+FPgedPsdgvwZeC2JFclOTPJgbOpWU98hr7m293Az5h5cE9+c8iktuIXbyQT9upxnMnTJ0X/v/+9aurVPv2Bqh6pqo1VdXZVHUVn6uhDSfaeap8kbwQ+SWca5wQ6I/gP0fv77j7XY8DxwG8AN9J5s/luktfMtm49cRn6mldV9SDwReCMJL86+fUkeyXZj860xk46o99uR9OZi5+wA3hO1/77AIf0UdpPgCUz6Hf7FDVNXFAd1J10/sKZ+Nn0quto4Oaq+lhVbaqqu+lc4O3W8/upjhuq6sNVdTSdv1LeMQd16wnC0Ncw/B6di46bkrw5ySFJfi3JW4BRYHVVPQp8AviTJG9MsjrJ++msPvlw17GuBU5L8pIkh9FZPTPlKHk3vgcckeT5SZY1Syp7+VPgt5O8L8kLkrwJOBs4t3pfjO0pyeFJ/jrJm5IcluTgJL8D/CHwjaoa76rrZUme29T1JOAu4F8nObGp90w6F30nfz/Pbn4uy5Lsm+SlSf44yYub4x1L5yLwHTOtW4vAsC8quLVzA0borHD5LvAvdEbsXwfewi+WP85kyeaz6SwBfZjOmvd30/tC7gcm7XcB8LWu5wfTmat/hJkt2byzqekB4JyJmpvX3840F3KBZcDH6VxreAj45+Zn8RHg6V391tJZwfNjfrFkcy86q3UebL7vS4Ez6Foe2vS5tOlTdN6YDgU20lkuuxP4PvDnNBeg3dqxpfkFkSS1gNM7ktQihr4ktYihL0ktYuhLUoss+HvvLFu2rFatWjXsMiTpCWPTpk3/WFUjvV5b8KG/atUqRkdHh12GJD1hJPn+VK85vSNJLWLoS1KLGPqS1CKGviS1iKEvSS1i6EtSixj6ktQihr4ktciC/3BWv5LJ/4Nef7z1tKTFxJG+JLWIoS9JLbJop3e61fr9Z9U/H3x4D1UiScPlSF+SWsTQl6QWMfQlqUUMfUlqEUNfklpk2tBPsiHJjiS3dbX9VZLNzXZfks1N+6okP+567VNd+xyR5NYkW5J8InP16SlJ0ozNZMnmRcD/Ai6ZaKiq35l4nORc4KGu/vdU1ZoexzkPWAdcD2wEjgO+OPuSJUn9mnakX1XXAQ/2eq0Zrb8JuGx3x0iyHNi/qr5ZnfsaXAKcNPtyJUmDGHRO/+XA9qq6u6vtoCQ3J/l6kpc3bSuAsa4+Y01bT0nWJRlNMjo+Pj5giZKkCYOG/in88ih/G/DcqjoceC9waZL9gV7z91Peyayqzq+qtVW1dmRkZMASJUkT+r4NQ5KlwOuBIybaqmonsLN5vCnJPcAL6IzsV3btvhLY2u+5JUn9GWSk/5vAd6rq59M2SUaSLGkeHwysBu6tqm3Aj5Ic1VwHeBvwhQHOLUnqw0yWbF4GfBN4YZKxJO9sXjqZx1/APRq4Jcm3gc8Bp1XVxEXgdwMXAFuAe3DljiTNu2mnd6rqlCna396j7Urgyin6jwKHzbI+SdIc8hO5ktQihr4ktYihL0ktYuhLUosY+pLUIoa+JLWIoS9JLWLoS1KLGPqS1CKGviS1iKEvSS1i6EtSixj6ktQihr4ktYihL0ktYuhLUosY+pLUIoa+JLWIoS9JLTKT/xh9Q5IdSW7rajs7yQNJNjfbCV2vnZVkS5K7kry6q/24pm1LkvfN/bciSZrOTEb6FwHH9Wj/eFWtabaNAEkOAU4GDm32+d9JliRZAnwSOB44BDil6StJmkdLp+tQVdclWTXD450IXF5VO4HvJdkCHNm8tqWq7gVIcnnT945ZVyxJ6tsgc/pnJLmlmf45oGlbAdzf1WesaZuqvack65KMJhkdHx8foERJUrd+Q/884PnAGmAbcG7Tnh59azftPVXV+VW1tqrWjoyM9FmiJGmyaad3eqmq7ROPk3wa+Jvm6RhwYFfXlcDW5vFU7ZKkedLXSD/J8q6nrwMmVvZcDZycZJ8kBwGrgRuAG4HVSQ5Ksjedi71X91+2JKkf0470k1wGHAMsSzIGrAeOSbKGzhTNfcC7AKrq9iRX0LlAuws4vaoea45zBvBlYAmwoapun/PvRpK0WzNZvXNKj+YLd9P/HOCcHu0bgY2zqk6SNKf8RK4ktYihL0ktYuhLUosY+pLUIoa+JLWIoS9JLWLoS1KLGPqS1CKGviS1iKEvSS1i6EtSixj6ktQihr4ktYihL0ktYuhLUosY+pLUIoa+JLWIoS9JLWLoS1KLTBv6STYk2ZHktq62P0/ynSS3JLkqydOa9lVJfpxkc7N9qmufI5LcmmRLkk8kyZ75liRJU5nJSP8i4LhJbdcAh1XVrwPfBc7qeu2eqlrTbKd1tZ8HrANWN9vkY0qS9rBpQ7+qrgMenNT2lara1Ty9Hli5u2MkWQ7sX1XfrKoCLgFO6q9kSVK/5mJO/3eBL3Y9PyjJzUm+nuTlTdsKYKyrz1jT1lOSdUlGk4yOj4/PQYmSJBgw9JP8F2AX8JmmaRvw3Ko6HHgvcGmS/YFe8/c11XGr6vyqWltVa0dGRgYpUZLUZWm/OyY5FXgNcGwzZUNV7QR2No83JbkHeAGdkX33FNBKYGu/55Yk9aevkX6S44A/Al5bVY92tY8kWdI8PpjOBdt7q2ob8KMkRzWrdt4GfGHg6iVJszLtSD/JZcAxwLIkY8B6Oqt19gGuaVZeXt+s1Dka+FCSXcBjwGlVNXER+N10VgI9hc41gO7rAJKkeTBt6FfVKT2aL5yi75XAlVO8NgocNqvqJElzyk/kSlKLGPqS1CKGviS1iKEvSS1i6EtSixj6ktQihr4ktYihL0ktYuhLUosY+pLUIoa+JLWIoS9JLWLoS1KLGPqS1CKGviS1iKEvSS1i6EtSixj6ktQihr4ktciMQj/JhiQ7ktzW1fb0JNckubv5ekDTniSfSLIlyS1JXtS1z6lN/7uTnDr3344kaXdmOtK/CDhuUtv7gK9W1Wrgq81zgOOB1c22DjgPOm8SwHrgxcCRwPqJNwpJ0vyYUehX1XXAg5OaTwQubh5fDJzU1X5JdVwPPC3JcuDVwDVV9WBV/T/gGh7/RiJJ2oMGmdN/VlVtA2i+PrNpXwHc39VvrGmbqv1xkqxLMppkdHx8fIASJUnd9sSF3PRoq920P76x6vyqWltVa0dGRua0OElqs0FCf3szbUPzdUfTPgYc2NVvJbB1N+2SpHkySOhfDUyswDkV+EJX+9uaVTxHAQ810z9fBl6V5IDmAu6rmjZJ0jxZOpNOSS4DjgGWJRmjswrnz4ArkrwT+AHwxqb7RuAEYAvwKPAOgKp6MMmfADc2/T5UVZMvDkuS9qAZhX5VnTLFS8f26FvA6VMcZwOwYcbVSZLmlJ/IlaQWMfQlqUUMfUlqEUNfklrE0JekFjH0JalFDH1JahFDX5JaxNCXpBYx9CWpRQx9SWoRQ1+SWsTQl6QWMfQlqUUMfUlqEUNfklrE0JekFjH0JalFDH1JapG+Qz/JC5Ns7toeTvKeJGcneaCr/YSufc5KsiXJXUlePTffgiRppmb0H6P3UlV3AWsAkiwBHgCuAt4BfLyqPtrdP8khwMnAocBzgGuTvKCqHuu3BknS7MzV9M6xwD1V9f3d9DkRuLyqdlbV94AtwJFzdH5J0gzMVeifDFzW9fyMJLck2ZDkgKZtBXB/V5+xpu1xkqxLMppkdHx8fI5KlCQNHPpJ9gZeC3y2aToPeD6dqZ9twLkTXXvsXr2OWVXnV9Xaqlo7MjIyaImSpMZcjPSPB26qqu0AVbW9qh6rqp8Bn+YXUzhjwIFd+60Ets7B+SVJMzQXoX8KXVM7SZZ3vfY64Lbm8dXAyUn2SXIQsBq4YQ7OL0maob5X7wAk2Rd4JfCuruaPJFlDZ+rmvonXqur2JFcAdwC7gNNduSNJ82ug0K+qR4FnTGp76276nwOcM8g5JUn98xO5ktQihr4ktYihL0ktYuhLUosY+pLUIoa+JLWIoS9JLWLoS1KLGPqS1CKGviS1iKEvSS1i6EtSixj6ktQihr4ktYihL0ktYuhLUosY+pLUIoa+JLWIoS9JLTJw6Ce5L8mtSTYnGW3anp7kmiR3N18PaNqT5BNJtiS5JcmLBj2/JGnm5mqk/++qak1VrW2evw/4alWtBr7aPAc4HljdbOuA8+bo/JKkGdhT0zsnAhc3jy8GTupqv6Q6rgeelmT5HqpBkjTJXIR+AV9JsinJuqbtWVW1DaD5+symfQVwf9e+Y03bL0myLsloktHx8fE5KFGSBLB0Do7xsqramuSZwDVJvrObvunRVo9rqDofOB9g7dq1j3tdktSfgUf6VbW1+boDuAo4Etg+MW3TfN3RdB8DDuzafSWwddAaJEkzM1DoJ9kvyVMnHgOvAm4DrgZObbqdCnyheXw18LZmFc9RwEMT00CSpD1v0OmdZwFXJZk41qVV9aUkNwJXJHkn8APgjU3/jcAJwBbgUeAdA55fkjQLA4V+Vd0L/Jse7f8XOLZHewGnD3JOSVL//ESuJLWIoS9JLWLoS1KLzMU6/UWtuUjdl84lDElaOBzpS1KLGPqS1CJO70yj1u8/q/754MN7qBJJGpwjfUlqEUNfklrE0JekFjH0JalFDH1JahFDX5JaxNCXpBYx9CWpRQx9SWoRQ1+SWsTQl6QW8d47e5C3ZZa00PQ90k9yYJK/S3JnktuTnNm0n53kgSSbm+2Ern3OSrIlyV1JXj0X34AkaeYGGenvAv5TVd2U5KnApiTXNK99vKo+2t05ySHAycChwHOAa5O8oKoeG6AGSdIs9B36VbUN2NY8/lGSO4EVu9nlRODyqtoJfC/JFuBI4Jv91rDQeVtmSQvNnFzITbIKOBz4VtN0RpJbkmxIckDTtgK4v2u3MaZ4k0iyLsloktHx8fG5KFGSxByEfpJfAa4E3lNVDwPnAc8H1tD5S+Dcia49du95tbKqzq+qtVW1dmRkZNASJUmNgUI/yV50Av8zVfV5gKraXlWPVdXPgE/TmcKBzsj+wK7dVwJbBzm/JGl2Blm9E+BC4M6q+lhX+/Kubq8DbmseXw2cnGSfJAcBq4Eb+j2/JGn2Blm98zLgrcCtSTY3be8HTkmyhs7UzX3AuwCq6vYkVwB30Fn5c7ordyRpfg2yeucf6D1Pv3E3+5wDnNPvOSVJg/ETuQvUIJ/mBT/RK6k3770jSS3iSH+R8r4/knox9Beo2X6aF/xEr6TpOb0jSS3iSH+RGuS+P04NSYuXI31JahFDX5JaxOkdPY63hJYWL0Nfc8rrAdLC5vSOJLWII30tGN56QtrzDH3NKa8HSAuboa9Fw+sJ0vQMfS0Yw7z1hG8Yagsv5EpSizjS16Lh9QRpeoa+hG8Yag9DXxrQoEtN++W1BPVj3uf0kxyX5K4kW5K8b77PLy0WSQba1E7zOtJPsgT4JPBKYAy4McnVVXXHfNYhaXh/oQzCv27mQFXN2wa8BPhy1/OzgLN2t88RRxxR/QDc3NzcCqhXvOIVT7h9169f31f2Nfk3OlWmpubxnTPJG4Djquo/NM/fCry4qs6Y1G8dsK55+kLgrj5PuQz4xz733dOsrT/W1h9r688TtbbnVdVIrxfm+0Jur78nH/euU1XnA+cPfLJktKrWDnqcPcHa+mNt/bG2/izG2ub7Qu4YcGDX85XA1nmuQZJaa75D/0ZgdZKDkuwNnAxcPc81SFJrzev0TlXtSnIG8GVgCbChqm7fg6cceIpoD7K2/lhbf6ytP4uutnm9kCtJGi5vuCZJLWLoS1KLLMrQX8i3ekiyIcmOJLcNu5ZuSQ5M8ndJ7kxye5Izh13ThCRPTnJDkm83tX1w2DVNlmRJkpuT/M2wa5ksyX1Jbk2yOcnosOuZkORpST6X5DvN791Lhl3ThCQvbH5eE9vDSd4z7LoAkvxB8+/gtiSXJXnyrPZfbHP6za0evkvXrR6AU2qB3OohydHAI8AlVXXYsOuZkGQ5sLyqbkryVGATcNJC+Lmlc7+A/arqkSR7Af8AnFlV1w+5tJ9L8l5gLbB/Vb1m2PV0S3IfsLaqFtSHjJJcDPx9VV3QrObbt6r+adh1TdZkygN0Pkj6/SHXsoLO7/8hVfXjJFcAG6vqopkeYzGO9I8EtlTVvVX1E+By4MQh1/RzVXUd8OCw65isqrZV1U3N4x8BdwIrhltVR/PJ8keap3s124IZrSRZCfwWcMGwa3miSLI/cDRwIUBV/WQhBn7jWOCeYQd+l6XAU5IsBfZllp91WoyhvwK4v+v5GAskvJ4okqwCDge+NdxKfqGZPtkM7ACuqaoFUxvwP4A/BH427EKmUMBXkmxqbnGyEBwMjAN/0UyLXZBkv2EXNYWTgcuGXQRAVT0AfBT4AbANeKiqvjKbYyzG0J/RrR7UW5JfAa4E3lNVC+Z/Cqmqx6pqDZ1PcR+ZZEFMjSV5DbCjqjYNu5bdeFlVvQg4Hji9mWIctqXAi4Dzqupw4J+BBXX9DaCZdnot8Nlh1wKQ5AA6MxcHAc8B9kvyltkcYzGGvrd66FMzX34l8Jmq+vyw6+mlmQL4GnDckEuZ8DLgtc28+eXAbyT5y+GW9MuqamvzdQdwFZ0p0GEbA8a6/mL7HJ03gYXmeOCmqto+7EIavwl8r6rGq+qnwOeBl87mAIsx9L3VQx+ai6UXAndW1ceGXU+3JCNJntY8fgqdX/zvDLeqjqo6q6pWVtUqOr9rf1tVsxp57UlJ9msuzNNMn7wKGPrKsar6IXB/khc2TccCQ1800MMpLJCpncYPgKOS7Nv8mz2WzvW3GVt0/13iEG71MCtJLgOOAZYlGQPWV9WFw60K6IxY3wrc2sydA7y/qjYOsaYJy4GLm1UUTwKuqKoFtzRygXoWcFXzH6YsBS6tqi8Nt6Sf+33gM83g7F7gHUOu55ck2ZfOKsB3DbuWCVX1rSSfA24CdgE3M8vbMSy6JZuSpKktxukdSdIUDH1JahFDX5JaxNCXpBYx9CWpRQx9SWoRQ1+SWuT/A512BPKMRcrcAAAAAElFTkSuQmCC\n",
          "text/plain": "<Figure size 432x288 with 1 Axes>"
         },
         "metadata": {
          "needs_background": "light"
         },
         "output_type": "display_data"
        }
       ]
      }
     },
     "b6bcc9eecbc746a69583505880774b54": {
      "model_module": "@jupyter-widgets/controls",
      "model_module_version": "1.5.0",
      "model_name": "VBoxModel",
      "state": {
       "_dom_classes": [
        "widget-interact"
       ],
       "children": [
        "IPY_MODEL_cb25e4edf7fa422fbaa156422450ae58",
        "IPY_MODEL_3c53b1fe993b491b9ddd76887a0aa7d5"
       ],
       "layout": "IPY_MODEL_0e916a241dc24926b588f3cbb9bf271b"
      }
     },
     "b74715bd826c478fb573ad852ad7fb7b": {
      "model_module": "@jupyter-widgets/controls",
      "model_module_version": "1.5.0",
      "model_name": "VBoxModel",
      "state": {
       "_dom_classes": [
        "widget-interact"
       ],
       "children": [
        "IPY_MODEL_3ff1cbea23d64d30aa27b5bfc9e643a5",
        "IPY_MODEL_2a32a497ae0d40c38dce69a7b7ed6e37"
       ],
       "layout": "IPY_MODEL_42eea2c0a3914c3ead52e3235d89f314"
      }
     },
     "bcd58848ff0f41658973f2f36cfa7f50": {
      "model_module": "@jupyter-widgets/controls",
      "model_module_version": "1.5.0",
      "model_name": "DropdownModel",
      "state": {
       "_options_labels": [
        "Both",
        "NCAA",
        "NBA"
       ],
       "description": "college",
       "index": 0,
       "layout": "IPY_MODEL_d21ac2933a7145299237e18aacefc25e",
       "style": "IPY_MODEL_3617dbf77e2b4ee0859c8db9174d22fb"
      }
     },
     "bdf7461a34f847c8b8879cbe96ad2806": {
      "model_module": "@jupyter-widgets/controls",
      "model_module_version": "1.5.0",
      "model_name": "DescriptionStyleModel",
      "state": {
       "description_width": ""
      }
     },
     "c84510d9fc5d48eeb60611c85260423e": {
      "model_module": "@jupyter-widgets/controls",
      "model_module_version": "1.5.0",
      "model_name": "SliderStyleModel",
      "state": {
       "description_width": ""
      }
     },
     "cb25e4edf7fa422fbaa156422450ae58": {
      "model_module": "@jupyter-widgets/controls",
      "model_module_version": "1.5.0",
      "model_name": "IntSliderModel",
      "state": {
       "description": "size",
       "layout": "IPY_MODEL_cf7864f3ce9a4327ab4961ba3e35c809",
       "max": 18,
       "min": 3,
       "step": 3,
       "style": "IPY_MODEL_c84510d9fc5d48eeb60611c85260423e",
       "value": 18
      }
     },
     "cc31c07e142b4c91b3418ef2cff2ee07": {
      "model_module": "@jupyter-widgets/base",
      "model_module_version": "1.2.0",
      "model_name": "LayoutModel",
      "state": {}
     },
     "cf7864f3ce9a4327ab4961ba3e35c809": {
      "model_module": "@jupyter-widgets/base",
      "model_module_version": "1.2.0",
      "model_name": "LayoutModel",
      "state": {}
     },
     "d21ac2933a7145299237e18aacefc25e": {
      "model_module": "@jupyter-widgets/base",
      "model_module_version": "1.2.0",
      "model_name": "LayoutModel",
      "state": {}
     },
     "d53efc1912624e728de32f0415b2bebd": {
      "model_module": "@jupyter-widgets/output",
      "model_module_version": "1.0.0",
      "model_name": "OutputModel",
      "state": {
       "layout": "IPY_MODEL_4e107a1418fa4e07ae12e46e96cc2a7a",
       "outputs": [
        {
         "data": {
          "image/png": "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\n",
          "text/plain": "<Figure size 720x540 with 1 Axes>"
         },
         "metadata": {},
         "output_type": "display_data"
        }
       ]
      }
     },
     "d557738870e141579d28c42bbc88e1c2": {
      "model_module": "@jupyter-widgets/controls",
      "model_module_version": "1.5.0",
      "model_name": "DropdownModel",
      "state": {
       "_options_labels": [
        "University of Kentucky",
        "University of California, Los Angeles",
        "University of North Carolina",
        "Duke University",
        "University of Kansas",
        "Indiana University",
        "University of Notre Dame",
        "University of Louisville",
        "University of Michigan",
        "St. John's University",
        "Michigan State University",
        "Syracuse University",
        "University of Arizona",
        "North Carolina State University",
        "Villanova University",
        "Ohio State University",
        "University of Minnesota",
        "Louisiana State University",
        "University of Illinois at Urbana-Champaign",
        "University of Maryland",
        "Georgetown University",
        "Marquette University",
        "University of Connecticut",
        "Georgia Institute of Technology",
        "Purdue University"
       ],
       "description": "college",
       "index": 0,
       "layout": "IPY_MODEL_24707d6e950748a897a9ad56b5d8d541",
       "style": "IPY_MODEL_ff49756b004846f7a7fcfba708ebb21d"
      }
     },
     "d7737b3df3aa4a868ed8809824302b3d": {
      "model_module": "@jupyter-widgets/base",
      "model_module_version": "1.2.0",
      "model_name": "LayoutModel",
      "state": {}
     },
     "d78a6b6b3e8b47dbb5b5a8fba38d19a3": {
      "model_module": "@jupyter-widgets/controls",
      "model_module_version": "1.5.0",
      "model_name": "DescriptionStyleModel",
      "state": {
       "description_width": ""
      }
     },
     "dcfac3e337eb46699fab36cdd3f0a3f6": {
      "model_module": "@jupyter-widgets/base",
      "model_module_version": "1.2.0",
      "model_name": "LayoutModel",
      "state": {}
     },
     "e2eafecf2b6c4837accd626d6ffac992": {
      "model_module": "@jupyter-widgets/base",
      "model_module_version": "1.2.0",
      "model_name": "LayoutModel",
      "state": {}
     },
     "e45e98b3ff194e3ba01289a3693ab2ac": {
      "model_module": "@jupyter-widgets/base",
      "model_module_version": "1.2.0",
      "model_name": "LayoutModel",
      "state": {}
     },
     "e57e1a09535542c9b7db2212355c0978": {
      "model_module": "@jupyter-widgets/controls",
      "model_module_version": "1.5.0",
      "model_name": "VBoxModel",
      "state": {
       "_dom_classes": [
        "widget-interact"
       ],
       "children": [
        "IPY_MODEL_2e841eadbd78400fb03e072ec439498b",
        "IPY_MODEL_adf1c62bafc540bbb8a56cf4afc39ed6"
       ],
       "layout": "IPY_MODEL_1ceab0fbe13c4ae49c6604ba814ba148"
      }
     },
     "e8d3c2813f2042db9a1ca6e61ceafd79": {
      "model_module": "@jupyter-widgets/base",
      "model_module_version": "1.2.0",
      "model_name": "LayoutModel",
      "state": {}
     },
     "ea7ada62a07e4de59bfeff433b3b0095": {
      "model_module": "@jupyter-widgets/controls",
      "model_module_version": "1.5.0",
      "model_name": "DescriptionStyleModel",
      "state": {
       "description_width": ""
      }
     },
     "ef4c825a72ae429d93086ae93a5bae73": {
      "model_module": "@jupyter-widgets/controls",
      "model_module_version": "1.5.0",
      "model_name": "VBoxModel",
      "state": {
       "_dom_classes": [
        "widget-interact"
       ],
       "children": [
        "IPY_MODEL_6fc9389a2b914b2481ed947c4a03dd71",
        "IPY_MODEL_43e9dd76f90a47c58679b85dc88bde0c",
        "IPY_MODEL_6ea34af7e6a24e14997a796bde332b7c"
       ],
       "layout": "IPY_MODEL_d7737b3df3aa4a868ed8809824302b3d"
      }
     },
     "f33a08eb9b2c4335ab8b31687ce7c1a9": {
      "model_module": "@jupyter-widgets/controls",
      "model_module_version": "1.5.0",
      "model_name": "DescriptionStyleModel",
      "state": {
       "description_width": ""
      }
     },
     "fd61e8b754074dfe946ff26fa8cca463": {
      "model_module": "@jupyter-widgets/base",
      "model_module_version": "1.2.0",
      "model_name": "LayoutModel",
      "state": {}
     },
     "ff49756b004846f7a7fcfba708ebb21d": {
      "model_module": "@jupyter-widgets/controls",
      "model_module_version": "1.5.0",
      "model_name": "DescriptionStyleModel",
      "state": {
       "description_width": ""
      }
     },
     "ff9d6bd04d6e44bf95a455052aae8ffa": {
      "model_module": "@jupyter-widgets/controls",
      "model_module_version": "1.5.0",
      "model_name": "DropdownModel",
      "state": {
       "_options_labels": [
        "5",
        "8",
        "10",
        "12",
        "15"
       ],
       "description": "size",
       "index": 0,
       "layout": "IPY_MODEL_fd61e8b754074dfe946ff26fa8cca463",
       "style": "IPY_MODEL_f33a08eb9b2c4335ab8b31687ce7c1a9"
      }
     }
    },
    "version_major": 2,
    "version_minor": 0
   }
  }
 },
 "nbformat": 4,
 "nbformat_minor": 2
}
