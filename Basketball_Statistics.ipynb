{
 "cells": [
  {
   "cell_type": "markdown",
   "metadata": {},
   "source": [
    "# Basketball Statistical Analysis: NCAA vs NBA\n",
    "This project seeks to allow users to find and explore trends not commonly seen by comparing the statistics of NBA players to their NCAA statistics. The goal of this project is to generate interactive bar charts that allow the user to explore trends within the data that are not easily observable. In this project, I used the package pandas to help clean, filter, and select the data for each of the charts. I used the matplotlib package to create bar charts and set a similar theme in all of the plots. I used ipywidgets interact functionality to generaete these interactive plots. Finally, using nbineract, I was able to generate an interactive HTML document, creating a usable interface with Jupyter notebook."
   ]
  },
  {
   "cell_type": "markdown",
   "metadata": {},
   "source": [
    "## Reading and Cleaning the Data\n",
    " I found a dataset on data.world.com that shows over 4,500 NBA players’ NBA and NCAA\n",
    "statistics. The variables included in this project include the players name, years active, birth date, college, name, position, and NBA and NCAA statistics. We used the pandas package for the reading in and cleaning of the data. The first 5 rows of the data frame show the user what to expect when interacting with the data. Critical in this section is renaming columns so that the NBA and NCAA statistics have the same variable names for each player. "
   ]
  },
  {
   "cell_type": "code",
   "execution_count": 28,
   "metadata": {},
   "outputs": [
    {
     "data": {
      "text/html": [
       "<div>\n",
       "<style scoped>\n",
       "    .dataframe tbody tr th:only-of-type {\n",
       "        vertical-align: middle;\n",
       "    }\n",
       "\n",
       "    .dataframe tbody tr th {\n",
       "        vertical-align: top;\n",
       "    }\n",
       "\n",
       "    .dataframe thead th {\n",
       "        text-align: right;\n",
       "    }\n",
       "</style>\n",
       "<table border=\"1\" class=\"dataframe\">\n",
       "  <thead>\n",
       "    <tr style=\"text-align: right;\">\n",
       "      <th></th>\n",
       "      <th>active_from</th>\n",
       "      <th>active_to</th>\n",
       "      <th>birth_date</th>\n",
       "      <th>college</th>\n",
       "      <th>name</th>\n",
       "      <th>position</th>\n",
       "      <th>position.1</th>\n",
       "      <th>NBA__3ptapg</th>\n",
       "      <th>NBA__3ptpct</th>\n",
       "      <th>NBA__3ptpg</th>\n",
       "      <th>...</th>\n",
       "      <th>NCAA_fgapg</th>\n",
       "      <th>NCAA_fg%</th>\n",
       "      <th>NCAA_fg_per_game</th>\n",
       "      <th>NCAA_ft</th>\n",
       "      <th>NCAA_ftapg</th>\n",
       "      <th>NCAA_ftpg</th>\n",
       "      <th>NCAA_g_played</th>\n",
       "      <th>NCAA_ppg</th>\n",
       "      <th>NCAA_ppg.1</th>\n",
       "      <th>years_active</th>\n",
       "    </tr>\n",
       "  </thead>\n",
       "  <tbody>\n",
       "    <tr>\n",
       "      <td>0</td>\n",
       "      <td>1991</td>\n",
       "      <td>1995</td>\n",
       "      <td>24-Jun-68</td>\n",
       "      <td>Duke University</td>\n",
       "      <td>Alaa Abdelnaby</td>\n",
       "      <td>F-C</td>\n",
       "      <td>F-C</td>\n",
       "      <td>0.0</td>\n",
       "      <td>0.000</td>\n",
       "      <td>0.0</td>\n",
       "      <td>...</td>\n",
       "      <td>5.6</td>\n",
       "      <td>0.599</td>\n",
       "      <td>3.3</td>\n",
       "      <td>0.728</td>\n",
       "      <td>2.5</td>\n",
       "      <td>1.8</td>\n",
       "      <td>134.0</td>\n",
       "      <td>8.5</td>\n",
       "      <td>8.5</td>\n",
       "      <td>4</td>\n",
       "    </tr>\n",
       "    <tr>\n",
       "      <td>1</td>\n",
       "      <td>1969</td>\n",
       "      <td>1978</td>\n",
       "      <td>7-Apr-46</td>\n",
       "      <td>Iowa State University</td>\n",
       "      <td>Zaid Abdul-Aziz</td>\n",
       "      <td>C-F</td>\n",
       "      <td>C-F</td>\n",
       "      <td>NaN</td>\n",
       "      <td>NaN</td>\n",
       "      <td>NaN</td>\n",
       "      <td>...</td>\n",
       "      <td>NaN</td>\n",
       "      <td>NaN</td>\n",
       "      <td>NaN</td>\n",
       "      <td>NaN</td>\n",
       "      <td>NaN</td>\n",
       "      <td>NaN</td>\n",
       "      <td>NaN</td>\n",
       "      <td>NaN</td>\n",
       "      <td>NaN</td>\n",
       "      <td>9</td>\n",
       "    </tr>\n",
       "    <tr>\n",
       "      <td>2</td>\n",
       "      <td>1970</td>\n",
       "      <td>1989</td>\n",
       "      <td>16-Apr-47</td>\n",
       "      <td>University of California, Los Angeles</td>\n",
       "      <td>Kareem Abdul-Jabbar</td>\n",
       "      <td>C</td>\n",
       "      <td>C</td>\n",
       "      <td>0.0</td>\n",
       "      <td>0.056</td>\n",
       "      <td>0.0</td>\n",
       "      <td>...</td>\n",
       "      <td>16.8</td>\n",
       "      <td>0.639</td>\n",
       "      <td>10.7</td>\n",
       "      <td>0.628</td>\n",
       "      <td>7.9</td>\n",
       "      <td>5.0</td>\n",
       "      <td>88.0</td>\n",
       "      <td>26.4</td>\n",
       "      <td>26.4</td>\n",
       "      <td>19</td>\n",
       "    </tr>\n",
       "    <tr>\n",
       "      <td>3</td>\n",
       "      <td>1991</td>\n",
       "      <td>2001</td>\n",
       "      <td>9-Mar-69</td>\n",
       "      <td>Louisiana State University</td>\n",
       "      <td>Mahmoud Abdul-Rauf</td>\n",
       "      <td>G</td>\n",
       "      <td>G</td>\n",
       "      <td>2.3</td>\n",
       "      <td>0.354</td>\n",
       "      <td>0.8</td>\n",
       "      <td>...</td>\n",
       "      <td>21.9</td>\n",
       "      <td>0.474</td>\n",
       "      <td>10.4</td>\n",
       "      <td>0.863</td>\n",
       "      <td>6.4</td>\n",
       "      <td>5.5</td>\n",
       "      <td>64.0</td>\n",
       "      <td>29.0</td>\n",
       "      <td>29.0</td>\n",
       "      <td>10</td>\n",
       "    </tr>\n",
       "    <tr>\n",
       "      <td>4</td>\n",
       "      <td>1998</td>\n",
       "      <td>2003</td>\n",
       "      <td>3-Nov-74</td>\n",
       "      <td>University of Michigan, San Jose State University</td>\n",
       "      <td>Tariq Abdul-Wahad</td>\n",
       "      <td>F</td>\n",
       "      <td>F</td>\n",
       "      <td>0.3</td>\n",
       "      <td>0.237</td>\n",
       "      <td>0.1</td>\n",
       "      <td>...</td>\n",
       "      <td>NaN</td>\n",
       "      <td>NaN</td>\n",
       "      <td>NaN</td>\n",
       "      <td>NaN</td>\n",
       "      <td>NaN</td>\n",
       "      <td>NaN</td>\n",
       "      <td>NaN</td>\n",
       "      <td>NaN</td>\n",
       "      <td>NaN</td>\n",
       "      <td>5</td>\n",
       "    </tr>\n",
       "  </tbody>\n",
       "</table>\n",
       "<p>5 rows × 33 columns</p>\n",
       "</div>"
      ],
      "text/plain": [
       "   active_from  active_to birth_date  \\\n",
       "0         1991       1995  24-Jun-68   \n",
       "1         1969       1978   7-Apr-46   \n",
       "2         1970       1989  16-Apr-47   \n",
       "3         1991       2001   9-Mar-69   \n",
       "4         1998       2003   3-Nov-74   \n",
       "\n",
       "                                             college                 name  \\\n",
       "0                                    Duke University       Alaa Abdelnaby   \n",
       "1                              Iowa State University      Zaid Abdul-Aziz   \n",
       "2              University of California, Los Angeles  Kareem Abdul-Jabbar   \n",
       "3                         Louisiana State University   Mahmoud Abdul-Rauf   \n",
       "4  University of Michigan, San Jose State University    Tariq Abdul-Wahad   \n",
       "\n",
       "  position position.1  NBA__3ptapg  NBA__3ptpct  NBA__3ptpg  ...  NCAA_fgapg  \\\n",
       "0      F-C        F-C          0.0        0.000         0.0  ...         5.6   \n",
       "1      C-F        C-F          NaN          NaN         NaN  ...         NaN   \n",
       "2        C          C          0.0        0.056         0.0  ...        16.8   \n",
       "3        G          G          2.3        0.354         0.8  ...        21.9   \n",
       "4        F          F          0.3        0.237         0.1  ...         NaN   \n",
       "\n",
       "   NCAA_fg%  NCAA_fg_per_game  NCAA_ft  NCAA_ftapg  NCAA_ftpg  NCAA_g_played  \\\n",
       "0     0.599               3.3    0.728         2.5        1.8          134.0   \n",
       "1       NaN               NaN      NaN         NaN        NaN            NaN   \n",
       "2     0.639              10.7    0.628         7.9        5.0           88.0   \n",
       "3     0.474              10.4    0.863         6.4        5.5           64.0   \n",
       "4       NaN               NaN      NaN         NaN        NaN            NaN   \n",
       "\n",
       "   NCAA_ppg  NCAA_ppg.1  years_active  \n",
       "0       8.5         8.5             4  \n",
       "1       NaN         NaN             9  \n",
       "2      26.4        26.4            19  \n",
       "3      29.0        29.0            10  \n",
       "4       NaN         NaN             5  \n",
       "\n",
       "[5 rows x 33 columns]"
      ]
     },
     "execution_count": 28,
     "metadata": {},
     "output_type": "execute_result"
    }
   ],
   "source": [
    "#https://www.youtube.com/watch?v=HW29067qVWk.\n",
    "#I watched this video that showed me a tutorial and \n",
    "#walkthrough of the basic jupyter notebook features. \n",
    "import matplotlib.pyplot as plt\n",
    "import matplotlib as mpl\n",
    "from ipywidgets import interact, interactive, fixed, interact_manual\n",
    "import ipywidgets as widgets\n",
    "import pandas as pd\n",
    "import numpy as np\n",
    "stats = pd.read_csv(\"players.csv\")\n",
    "#https://pandas.pydata.org/docs/. I used the pandas documentation\n",
    "#that showed me how to use pandas to work with the data. \n",
    "stats[\"years_active\"] = stats[\"active_to\"] - stats[\"active_from\"]\n",
    "stats = stats.rename(columns = \n",
    "                                    {\"NCAA_games\": \"NCAA_g_played\", \"NCAA_fgpct\":\"NCAA_fg%\", \"NCAA_fgpg\":\"NCAA_fg_per_game\"})\n",
    "stats.head(5)"
   ]
  },
  {
   "cell_type": "markdown",
   "metadata": {},
   "source": [
    "## Information\n",
    "The .info() returns information about the date being worked with that shows that statistics being observed and the size of data. In this section, we can observe the variables included in this data set and that there are 4,576 entries. The entries begin in the late 1940s and end in 2017. There are some NA values in the data that are removed in some sections to ensure that only clean data is used. However, it was also applicable to replace some NA values with 0 to include those players in the data observed. For example, a player such as Lebron James', who did not attend college, data is still included in some sections for analysis. "
   ]
  },
  {
   "cell_type": "code",
   "execution_count": 4,
   "metadata": {},
   "outputs": [
    {
     "name": "stdout",
     "output_type": "stream",
     "text": [
      "<class 'pandas.core.frame.DataFrame'>\n",
      "RangeIndex: 4576 entries, 0 to 4575\n",
      "Data columns (total 33 columns):\n",
      "active_from         4576 non-null int64\n",
      "active_to           4576 non-null int64\n",
      "birth_date          4547 non-null object\n",
      "college             4274 non-null object\n",
      "name                4576 non-null object\n",
      "position            4575 non-null object\n",
      "position.1          4575 non-null object\n",
      "NBA__3ptapg         3448 non-null float64\n",
      "NBA__3ptpct         2953 non-null float64\n",
      "NBA__3ptpg          3448 non-null float64\n",
      "NBA_efgpct          3426 non-null float64\n",
      "NBA_fg%             4548 non-null float64\n",
      "NBA_fg_per_game     4576 non-null float64\n",
      "NBA_fga_per_game    4576 non-null float64\n",
      "NBA_ft%             4378 non-null float64\n",
      "NBA_ft_per_g        4576 non-null float64\n",
      "NBA_fta_p_g         4576 non-null float64\n",
      "NBA_g_played        4576 non-null int64\n",
      "NBA_ppg             4576 non-null float64\n",
      "NCAA__3ptapg        1868 non-null float64\n",
      "NCAA__3ptpct        1726 non-null float64\n",
      "NCAA__3ptpg         1871 non-null float64\n",
      "NCAA_efgpct         0 non-null float64\n",
      "NCAA_fgapg          2582 non-null float64\n",
      "NCAA_fgpct          2583 non-null float64\n",
      "NCAA_fgpg           2598 non-null float64\n",
      "NCAA_ft             2594 non-null float64\n",
      "NCAA_ftapg          2592 non-null float64\n",
      "NCAA_ftpg           2598 non-null float64\n",
      "NCAA_games          2598 non-null float64\n",
      "NCAA_ppg            2598 non-null float64\n",
      "NCAA_ppg.1          2598 non-null float64\n",
      "years_active        4576 non-null int64\n",
      "dtypes: float64(24), int64(4), object(5)\n",
      "memory usage: 1.2+ MB\n"
     ]
    }
   ],
   "source": [
    "stats.info()"
   ]
  },
  {
   "cell_type": "markdown",
   "metadata": {},
   "source": [
    "## Base Data Visualization\n",
    "The base data visualization allows the user to select a statistic they wish to choose from in order to observe the distribution of that statistic among the players. The first plot shows the distribution of whatever statistic the user wishes. The intent is that outliers or high percentages are highlighted. Additionally, observing the distriution of each statistic provides initial insight into that statistic that may be useful in understanding high performing players. "
   ]
  },
  {
   "cell_type": "code",
   "execution_count": 29,
   "metadata": {},
   "outputs": [
    {
     "data": {
      "application/vnd.jupyter.widget-view+json": {
       "model_id": "b4f710cb91d2419b846ee67a9ba69faa",
       "version_major": 2,
       "version_minor": 0
      },
      "text/plain": [
       "interactive(children=(Dropdown(description='x', options=('NBA__3ptapg', 'NBA__3ptpct', 'NBA__3ptpg', 'NBA_efgp…"
      ]
     },
     "metadata": {},
     "output_type": "display_data"
    }
   ],
   "source": [
    "%matplotlib inline\n",
    "#https://matplotlib.org/3.1.1/contents.html\n",
    "#I used the matplotlib documentation to create\n",
    "#the plots below\n",
    "\n",
    "#https://www.youtube.com/watch?v=rkBPgTL-D3Y&t=407s\n",
    "#I watched this youtube video and it included multiple examples\n",
    "#on how to display interactive plots. \n",
    "x = stats[\"NBA_ppg\"].dropna()\n",
    "#hist1 called with interact displays an interactive char explained above\n",
    "def hist1(x):\n",
    "    plt.hist(stats[x].dropna(), color = \"C1\",edgecolor =\"black\",\n",
    "                linewidth = 3,bins = 20)\n",
    "    plt.style.use(\"ggplot\")\n",
    "    plt.title(\"Count of Stats\")  \n",
    "    mpl.rcParams['grid.color'] = 'k'\n",
    "    mpl.rcParams['grid.linestyle'] = ':'\n",
    "    mpl.rcParams['grid.linewidth'] = 0.5\n",
    "    mpl.rcParams['figure.facecolor'] = '1'\n",
    "    mpl.rcParams['figure.figsize'] = [10.0, 7.50]\n",
    "\n",
    "#builds the stat list based on the statistic names from the data frame\n",
    "stat = []\n",
    "for col in stats.columns:\n",
    "        stat += [col]\n",
    "stat = stat[7:]\n",
    "    \n",
    "interactive(hist1, x = stat)\n"
   ]
  },
  {
   "cell_type": "markdown",
   "metadata": {},
   "source": [
    "The next barchart shows players that improved the most in their NBA stats. The intent is that the user will be able to look into these players deeper to find what caused that improvement. This was done by subtracting the players college points per game from the nba points per game. In this chart, the players with no college statistics are removed from the data in order to not skew the data. "
   ]
  },
  {
   "cell_type": "code",
   "execution_count": 30,
   "metadata": {},
   "outputs": [
    {
     "data": {
      "application/vnd.jupyter.widget-view+json": {
       "model_id": "e165b8038484422e84f0ae73aec6ff9a",
       "version_major": 2,
       "version_minor": 0
      },
      "text/plain": [
       "interactive(children=(Dropdown(description='size', options=(5, 8, 10, 12, 15), value=5), Output()), _dom_class…"
      ]
     },
     "metadata": {},
     "output_type": "display_data"
    },
    {
     "data": {
      "text/plain": [
       "<function __main__.hist2(size)>"
      ]
     },
     "execution_count": 30,
     "metadata": {},
     "output_type": "execute_result"
    }
   ],
   "source": [
    "stats[\"ppg_diff\"] = stats[\"NBA_ppg\"] - stats[\"NCAA_ppg\"]\n",
    "players_with_p = stats.fillna(0)\n",
    "players_with_p.sort_values(by = \"ppg_diff\", ascending = False)\n",
    "#hist2 when called with interact displays an interactive plot\n",
    "def hist2(size):   \n",
    "    top_n = players_with_p.nlargest(size, 'ppg_diff')\n",
    "    names = top_n[\"name\"]\n",
    "    c = top_n[\"position\"]\n",
    "    y_pos = np.arange(len(names))\n",
    "    plt.bar(y_pos, top_n[\"ppg_diff\"],edgecolor =\"black\",\n",
    "                linewidth = 3, color = \"C1\")\n",
    "    plt.xticks(y_pos, names, rotation = 90)\n",
    "    plt.title(\"Top Players: Improved\")\n",
    "    mpl.rcParams['grid.color'] = 'k'\n",
    "    mpl.rcParams['grid.linestyle'] = ':'\n",
    "    mpl.rcParams['grid.linewidth'] = 0.5\n",
    "    mpl.rcParams['figure.facecolor'] = '1'\n",
    "    mpl.rcParams['figure.figsize'] = [10.0, 7.50]\n",
    "    \n",
    "interact(hist2, size = [5,8,10,12,15])"
   ]
  },
  {
   "cell_type": "markdown",
   "metadata": {},
   "source": [
    "The next chart also highlights differences between a player's college and NBA statistics. However, this chart allows the user to choose which statistic they wish to observe the differences in and also the size of the bar chart. By choosing the size, the user is able to more closely analyze the players with the largest differences. "
   ]
  },
  {
   "cell_type": "code",
   "execution_count": 31,
   "metadata": {},
   "outputs": [
    {
     "data": {
      "application/vnd.jupyter.widget-view+json": {
       "model_id": "3675cec79aae432682de874e743982de",
       "version_major": 2,
       "version_minor": 0
      },
      "text/plain": [
       "interactive(children=(Dropdown(description='size', options=(5, 8, 10, 12, 15), value=5), Dropdown(description=…"
      ]
     },
     "metadata": {},
     "output_type": "display_data"
    },
    {
     "data": {
      "text/plain": [
       "<function __main__.hist3(size, data)>"
      ]
     },
     "execution_count": 31,
     "metadata": {},
     "output_type": "execute_result"
    }
   ],
   "source": [
    "\n",
    "data = [\"ppg\", \"g_played\", \"fg_per_game\", \"fg%\"]\n",
    "players_with_p = stats\n",
    "#hist3 when called with interact displays an interactive chart \n",
    "def hist3(size, data):\n",
    "    top_n = players_with_p.nlargest(size, \"NBA_\"+data)\n",
    "    names = top_n[\"name\"]\n",
    "    c = top_n[\"position\"]\n",
    "    y_pos = np.arange(len(names))\n",
    "    width = len(names)/(2*len(y_pos))\n",
    "    plt.bar(y_pos, top_n[\"NBA_\"+data], color = \"C1\",width = width, edgecolor = \"black\", linewidth = \n",
    "                3)\n",
    "    plt.bar(y_pos + width, top_n[\"NCAA_\"+data], color = \"C4\",width = width, edgecolor =\"black\",\n",
    "                linewidth = 3)\n",
    "    plt.xticks(y_pos + (width/2), names, rotation = 90)\n",
    "    plt.title(\"Top \" +str(size) + \" Players: Statistic Differences in \" + data)\n",
    "    mpl.rcParams['grid.color'] = 'k'\n",
    "    mpl.rcParams['grid.linestyle'] = ':'\n",
    "    mpl.rcParams['grid.linewidth'] = 0.5\n",
    "    mpl.rcParams['figure.facecolor'] = '1'\n",
    "    mpl.rcParams['figure.figsize'] = [10.0, 7.50]\n",
    "interact(hist3, data = data, size = [5,8,10,12,15])"
   ]
  },
  {
   "cell_type": "markdown",
   "metadata": {},
   "source": [
    "The next goal is to allow the use to observe trends in both college and NBA stats throughout history. The user will be allowed to choose a year from 1948 to 2017, select whether they wish to observe NCAA stats, NBA stats, or both, the size of the chart, and the statistic. For each year, if a player was active during those years, they will be included in the analysis. The analysis is somewhat limited in the early years because there is not much data from those years. "
   ]
  },
  {
   "cell_type": "code",
   "execution_count": 32,
   "metadata": {},
   "outputs": [
    {
     "data": {
      "application/vnd.jupyter.widget-view+json": {
       "model_id": "14d57b59c2534541a69e12e14b698d6f",
       "version_major": 2,
       "version_minor": 0
      },
      "text/plain": [
       "interactive(children=(Dropdown(description='year', options=(1948, 1949, 1950, 1951, 1952, 1953, 1954, 1955, 19…"
      ]
     },
     "metadata": {},
     "output_type": "display_data"
    },
    {
     "data": {
      "text/plain": [
       "<function __main__.historical(year, data, size, college)>"
      ]
     },
     "execution_count": 32,
     "metadata": {},
     "output_type": "execute_result"
    }
   ],
   "source": [
    "match = stats\n",
    "\n",
    "def historical(year, data, size, college):\n",
    "    active_players = match.loc[(match[\"active_from\"] < year) & (match[\"active_to\"] > year)]\n",
    "    if college == \"Both\":\n",
    "        top_n = active_players.nlargest(size, \"NBA_\"+data)\n",
    "        names = top_n[\"name\"]\n",
    "        y_pos = np.arange(len(names))\n",
    "        width = len(names)/(2*len(y_pos))\n",
    "        plt.bar(y_pos, top_n[\"NBA_\"+data], color = \"C1\",width = width, edgecolor = \"black\", linewidth = \n",
    "                3)\n",
    "        plt.bar(y_pos + width, top_n[\"NCAA_\"+data], color = \"C4\",width = width, edgecolor =\"black\",\n",
    "                linewidth = 3)\n",
    "        plt.xticks(y_pos + (width/2), names, rotation = 90)\n",
    "        plt.title(\"College and NBA Stats: Top \" + str(size)+ \" Players Who Played in \" + str(year) + \" by \" + data)\n",
    "    if college == \"NBA\":\n",
    "        top_n = active_players.nlargest(size, \"NBA_\"+data)\n",
    "        names = top_n[\"name\"]\n",
    "        y_pos = np.arange(len(names))\n",
    "        plt.bar(y_pos, top_n[\"NBA_\"+data],color = \"C1\", edgecolor = \"black\", linewidth = \n",
    "                3)\n",
    "        plt.xticks(y_pos, names, rotation = 90)\n",
    "        plt.title(\"NBA Stats: Top \" + str(size)+ \" Players Who Played in \" + str(year) + \" by \" + data)\n",
    "    if college == \"NCAA\":\n",
    "        top_n = active_players.nlargest(size, \"NCAA_\"+data)\n",
    "        names = top_n[\"name\"]\n",
    "        y_pos = np.arange(len(names))\n",
    "        plt.bar(y_pos, top_n[\"NCAA_\"+data],color = \"C4\", edgecolor = \"black\", linewidth = \n",
    "                3)\n",
    "        plt.xticks(y_pos, names, rotation = 90)\n",
    "        plt.title(\"College Stats: Top \" + str(size)+ \" Players Who Played in \" + str(year) + \" by \" + data)\n",
    "    mpl.rcParams['grid.color'] = 'k'\n",
    "    mpl.rcParams['grid.linestyle'] = ':'\n",
    "    mpl.rcParams['grid.linewidth'] = 0.5\n",
    "    mpl.rcParams['figure.facecolor'] = '1'\n",
    "    mpl.rcParams['figure.figsize'] = [10.0, 7.50]\n",
    "    \n",
    "interact(historical, data = data, year = list(range(1948,2018)), size =[5,8,10,12,15, 20, 25], college = [\"Both\", \"NCAA\", \"NBA\"] )\n"
   ]
  },
  {
   "cell_type": "markdown",
   "metadata": {},
   "source": [
    "## College Analysis\n",
    "The next step is to analyze players college statistics to give NBA scouts a better idea of trends of players. The first plot displays the top colleges. This was calculated by counting the overall number of players who have from that college and made it to the NBA. "
   ]
  },
  {
   "cell_type": "code",
   "execution_count": 33,
   "metadata": {
    "scrolled": true
   },
   "outputs": [
    {
     "data": {
      "application/vnd.jupyter.widget-view+json": {
       "model_id": "2cf4137711274b41b97ab85d7944161b",
       "version_major": 2,
       "version_minor": 0
      },
      "text/plain": [
       "interactive(children=(IntSlider(value=9, description='size', max=18, min=3, step=3), Output()), _dom_classes=(…"
      ]
     },
     "metadata": {},
     "output_type": "display_data"
    },
    {
     "data": {
      "text/plain": [
       "<function __main__.hist4(size)>"
      ]
     },
     "execution_count": 33,
     "metadata": {},
     "output_type": "execute_result"
    }
   ],
   "source": [
    "colleges = pd.DataFrame({\"count\" :stats.groupby(\"college\").size()}).reset_index()\n",
    "#https://stackoverflow.com/questions/10373660/converting-a-pandas-groupby-output-from-series-to-dataframe\n",
    "#I use this website in creating the line of code above that returns a grouped by data frame. \n",
    "def hist4(size):   \n",
    "    top_n = colleges.nlargest(size, 'count')\n",
    "    names = top_n[\"college\"]\n",
    "    y_pos = np.arange(len(names))\n",
    "    plt.bar(y_pos, top_n[\"count\"], color = \"C1\", edgecolor = \"black\", linewidth = 3)\n",
    "    plt.xticks(y_pos, names, rotation = 90)\n",
    "    plt.title(\"Top \" + str(size) + \" Colleges With Players in NBA\")\n",
    "    mpl.rcParams['grid.color'] = 'k'\n",
    "    mpl.rcParams['grid.linestyle'] = ':'\n",
    "    mpl.rcParams['grid.linewidth'] = 0.5\n",
    "    mpl.rcParams['figure.facecolor'] = '1'\n",
    "    mpl.rcParams['figure.figsize'] = [10.0, 7.50]\n",
    "    \n",
    "interact(hist4, size = (3,18,3))  "
   ]
  },
  {
   "cell_type": "markdown",
   "metadata": {},
   "source": [
    "Along with counting the total players coming from a college in determining the quality of players from those colleges, it useful to see differences in NBA and NCAA statistics of players from those colleges. We can assume that colleges with a higher difference of NCAA and NBA stats are more likely to be successful in the NBA. The difference functionality allows the user to observe these trends. Additionally, without the difference functionality, the user is able to select a statistic to see the average player statistic in that category in both NBA and NCAA statistics. "
   ]
  },
  {
   "cell_type": "code",
   "execution_count": 34,
   "metadata": {},
   "outputs": [
    {
     "data": {
      "application/vnd.jupyter.widget-view+json": {
       "model_id": "0094aa0ceb534df881002636e25fb6c0",
       "version_major": 2,
       "version_minor": 0
      },
      "text/plain": [
       "interactive(children=(Dropdown(description='size', options=(5, 8, 10, 12, 15), value=5), Dropdown(description=…"
      ]
     },
     "metadata": {},
     "output_type": "display_data"
    },
    {
     "data": {
      "text/plain": [
       "<function __main__.avg_stats(size, stat, diff)>"
      ]
     },
     "execution_count": 34,
     "metadata": {},
     "output_type": "execute_result"
    }
   ],
   "source": [
    "colleges = colleges.nlargest(25, \"count\")\n",
    "stats\n",
    "\n",
    "new_col = pd.merge(colleges, match, on = \"college\")\n",
    "\n",
    "def avg_stats(size, stat, diff):\n",
    "    ncaa = new_col.groupby(\"college\", as_index = False)[\"NCAA_\"+stat].mean()\n",
    "    nba = new_col.groupby(\"college\", as_index = False)[\"NBA_\"+stat].mean()\n",
    "    merg = pd.merge(ncaa, nba, on = \"college\")\n",
    "    college = merg[\"college\"]\n",
    "    if diff == True:\n",
    "        merg[stat+\"diff\"] = merg[\"NBA_\"+stat] - merg[\"NCAA_\"+stat]\n",
    "        top_n = merg.nlargest(size, stat+\"diff\")\n",
    "        y_pos = np.arange(len(top_n[stat+\"diff\"]))\n",
    "        width = len(top_n[stat+\"diff\"])/(len(y_pos))\n",
    "        plt.bar(y_pos, -top_n[stat+\"diff\"], color = \"C1\",width = width, edgecolor = \"black\", linewidth = \n",
    "                3)\n",
    "        plt.xticks(y_pos, college, rotation = 90)\n",
    "        plt.title(\"Top Players: Statistic Differences\")\n",
    "    else:\n",
    "        top_n = merg.nlargest(size, \"NCAA_\"+stat)\n",
    "        y_pos = np.arange(len(top_n[\"NCAA_\"+stat]))\n",
    "        width = len(top_n[\"NCAA_\"+stat])/(2*len(y_pos))\n",
    "        plt.bar(y_pos, top_n[\"NCAA_\"+stat], color = \"C1\",width = width, edgecolor = \"black\", linewidth = \n",
    "                3)\n",
    "        plt.bar(y_pos + width, top_n[\"NBA_\"+stat], color = \"C4\",width = width, edgecolor =\"black\",\n",
    "                linewidth = 3)\n",
    "        plt.xticks(y_pos + width/2, college, rotation = 90)\n",
    "        plt.title(\"Top \" + str(size)+ \" Colleges: Statistic Differences in \" + stat)\n",
    "    mpl.rcParams['grid.color'] = 'k'\n",
    "    mpl.rcParams['grid.linestyle'] = ':'\n",
    "    mpl.rcParams['grid.linewidth'] = 0.5\n",
    "    mpl.rcParams['figure.facecolor'] = '1'\n",
    "    mpl.rcParams['figure.figsize'] = [10.0, 7.50]\n",
    "interact(avg_stats, stat = data, size = [5,8,10,12,15], diff = False)"
   ]
  },
  {
   "cell_type": "markdown",
   "metadata": {},
   "source": [
    "Much like the player historical data section, this section explores historical data and allows the user to select the time period they are interested in. This section highlights the colleges that were successful in those years in having a high output of NBA players. "
   ]
  },
  {
   "cell_type": "code",
   "execution_count": 35,
   "metadata": {},
   "outputs": [
    {
     "data": {
      "application/vnd.jupyter.widget-view+json": {
       "model_id": "c4ce4461d1494266b6434e160e0091aa",
       "version_major": 2,
       "version_minor": 0
      },
      "text/plain": [
       "interactive(children=(Dropdown(description='year', options=(1950, 1951, 1952, 1953, 1954, 1955, 1956, 1957, 19…"
      ]
     },
     "metadata": {},
     "output_type": "display_data"
    },
    {
     "data": {
      "text/plain": [
       "<function __main__.historical2(year, size)>"
      ]
     },
     "execution_count": 35,
     "metadata": {},
     "output_type": "execute_result"
    }
   ],
   "source": [
    "def historical2(year, size):\n",
    "    active_players = match.loc[(match[\"active_from\"] < year) & (match[\"active_to\"] > year)]\n",
    "    colleges = pd.DataFrame({\"count\" :active_players.groupby(\"college\").size()}).reset_index()\n",
    "    top_n = colleges.nlargest(size, \"count\")\n",
    "    names = top_n[\"college\"]\n",
    "    y_pos = np.arange(len(names))\n",
    "    plt.bar(y_pos, top_n[\"count\"], color = \"C1\", edgecolor = \"black\", linewidth = 3)\n",
    "    plt.xticks(y_pos, names, rotation = 90)\n",
    "    plt.title(\"Top \" + str(size) + \" Colleges With Players in NBA in \" + str(year))\n",
    "    mpl.rcParams['grid.color'] = 'k'\n",
    "    mpl.rcParams['grid.linestyle'] = ':'\n",
    "    mpl.rcParams['grid.linewidth'] = 0.5\n",
    "    mpl.rcParams['figure.facecolor'] = '1'\n",
    "    mpl.rcParams['figure.figsize'] = [10.0, 7.50]\n",
    "\n",
    "interact(historical2, year = list(range(1950, 2018)), size = [5,8,10,12,15, 20, 25])\n",
    "    "
   ]
  },
  {
   "cell_type": "markdown",
   "metadata": {},
   "source": [
    "Finally, the last bar chart allows the user to select from the top 25 colleges with NBA player output. This bar chart shows that college's output of NBA players throughout the decades and highlights when those colleges were most successful. We can assume that the more NBA players a college has during a decade, the better their team is. It is interesting to note when each college is the most successful in creating NBA players and their trend throughout the decades. "
   ]
  },
  {
   "cell_type": "code",
   "execution_count": 36,
   "metadata": {},
   "outputs": [
    {
     "data": {
      "application/vnd.jupyter.widget-view+json": {
       "model_id": "ac6fa9f08b514d3da1da1391f505a756",
       "version_major": 2,
       "version_minor": 0
      },
      "text/plain": [
       "interactive(children=(Dropdown(description='college', options=('University of Kentucky', 'University of Califo…"
      ]
     },
     "metadata": {},
     "output_type": "display_data"
    },
    {
     "data": {
      "text/plain": [
       "<function __main__.historical_colleges(college)>"
      ]
     },
     "execution_count": 36,
     "metadata": {},
     "output_type": "execute_result"
    }
   ],
   "source": [
    "def historical_colleges(college):\n",
    "    years = [\"50s\", \"60s\", \"70s\", \"80s\", \"90s\", \"2000s\", \"2010s\"]\n",
    "    players = stats.loc[stats[\"college\"] == college]\n",
    "    one = len(players.loc[(players[\"active_from\"] < 1960) & (players[\"active_from\"] > 1940)].index)\n",
    "    two = len(players.loc[(players[\"active_from\"] < 1970) & (players[\"active_from\"] > 1959)].index)\n",
    "    three = len(players.loc[(players[\"active_from\"] < 1980) & (players[\"active_from\"] > 1969)].index)\n",
    "    four = len(players.loc[(players[\"active_from\"] < 1990) & (players[\"active_from\"] > 1979)].index)\n",
    "    five = len(players.loc[(players[\"active_from\"] < 2000) & (players[\"active_from\"] > 1989)].index)\n",
    "    six = len(players.loc[(players[\"active_from\"] < 2010) & (players[\"active_from\"] > 1999)].index)\n",
    "    seven = len(players.loc[(players[\"active_from\"] < 2020) & (players[\"active_from\"] > 2009)].index)\n",
    "    count = [one, two, three, four, five, six, seven]\n",
    "    y_pos = np.arange(len(years))\n",
    "    plt.bar(y_pos, count, color = \"C1\", edgecolor = \"black\", linewidth = 3)\n",
    "    plt.xticks(y_pos, years, rotation = 90)\n",
    "    plt.title(\"Players to NBA from \" + college)\n",
    "    mpl.rcParams['grid.color'] = 'k'\n",
    "    mpl.rcParams['grid.linestyle'] = ':'\n",
    "    mpl.rcParams['grid.linewidth'] = 0.5\n",
    "    mpl.rcParams['figure.facecolor'] = '1'\n",
    "    mpl.rcParams['figure.figsize'] = [10.0, 7.50]\n",
    " \n",
    "college_names = colleges[\"college\"]\n",
    "interact(historical_colleges, college = college_names)\n",
    "\n",
    "\n",
    "\n"
   ]
  }
 ],
 "metadata": {
  "kernelspec": {
   "display_name": "Python 3",
   "language": "python",
   "name": "python3"
  },
  "language_info": {
   "codemirror_mode": {
    "name": "ipython",
    "version": 3
   },
   "file_extension": ".py",
   "mimetype": "text/x-python",
   "name": "python",
   "nbconvert_exporter": "python",
   "pygments_lexer": "ipython3",
   "version": "3.7.4"
  }
 },
 "nbformat": 4,
 "nbformat_minor": 2
}
